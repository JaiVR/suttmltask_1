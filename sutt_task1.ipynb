{
  "nbformat": 4,
  "nbformat_minor": 0,
  "metadata": {
    "colab": {
      "provenance": [],
      "authorship_tag": "ABX9TyNzc+LKUgBaG2u2dCPfcTQS",
      "include_colab_link": true
    },
    "kernelspec": {
      "name": "python3",
      "display_name": "Python 3"
    },
    "language_info": {
      "name": "python"
    }
  },
  "cells": [
    {
      "cell_type": "markdown",
      "metadata": {
        "id": "view-in-github",
        "colab_type": "text"
      },
      "source": [
        "<a href=\"https://colab.research.google.com/github/JaiVR/suttmltask_1/blob/main/sutt_task1.ipynb\" target=\"_parent\"><img src=\"https://colab.research.google.com/assets/colab-badge.svg\" alt=\"Open In Colab\"/></a>"
      ]
    },
    {
      "cell_type": "code",
      "source": [
        "import numpy as np\n",
        "import matplotlib.pyplot as plt\n",
        "import pandas as pd"
      ],
      "metadata": {
        "id": "1EUqmmF5MkSF"
      },
      "execution_count": 171,
      "outputs": []
    },
    {
      "cell_type": "code",
      "source": [
        "dataset = pd.read_csv('sutt.csv')\n",
        "\n",
        "X = dataset.iloc[:, :-1].values\n",
        "# y is the gpl ,the dependent variable\n",
        "y = dataset.iloc[:, -1].values"
      ],
      "metadata": {
        "id": "RdiV6XzVMiu1"
      },
      "execution_count": 172,
      "outputs": []
    },
    {
      "cell_type": "code",
      "source": [
        "dataset.dtypes"
      ],
      "metadata": {
        "colab": {
          "base_uri": "https://localhost:8080/"
        },
        "id": "76oPUt1efV2P",
        "outputId": "60a51c71-de66-4be5-e45e-b6d363d99241"
      },
      "execution_count": 173,
      "outputs": [
        {
          "output_type": "execute_result",
          "data": {
            "text/plain": [
              "SEX                               object\n",
              " AGES                            float64\n",
              "ADMISSION MODE                    object\n",
              "CGPA - 1                         float64\n",
              "CGPA-2                           float64\n",
              " CLUB / DEPARTMENT                object\n",
              "BOARD STUDIED                     object\n",
              "DAYS SINCE LAST SHOWER             int64\n",
              "BIRTHDAY                          object\n",
              "TREATS GIVEN                       int64\n",
              " HAS A S/O ?                      object\n",
              "ATTENDS LECTURES                  object\n",
              "CHARACTER                         object\n",
              "PIZZERIA EXPENDITURE (annual)      int64\n",
              "GRAMS / MONTH                    float64\n",
              "GPL                               object\n",
              "dtype: object"
            ]
          },
          "metadata": {},
          "execution_count": 173
        }
      ]
    },
    {
      "cell_type": "code",
      "source": [
        "print(X)"
      ],
      "metadata": {
        "colab": {
          "base_uri": "https://localhost:8080/"
        },
        "id": "GU0SawvMolWE",
        "outputId": "e498b4fd-56ab-43b1-ccb0-0a51e1cda819"
      },
      "execution_count": 174,
      "outputs": [
        {
          "output_type": "stream",
          "name": "stdout",
          "text": [
            "[['male' 19.0 'BITSAT' ... 'LITE' 20495 5.0]\n",
            " ['female' 21.0 'DASA' ... 'GHOT' 2361 0.2]\n",
            " ['female' 20.0 'BITSAT' ... 'GHOT' 8548 0.3]\n",
            " ...\n",
            " ['female' 21.0 'BITSAT' ... 'LITE' 17559 5.4]\n",
            " ['male' 22.0 'DASA' ... 'GHOT' 16411 8.7]\n",
            " ['female' 17.0 'BITSAT' ... 'GHOT' 5476 0.25]]\n"
          ]
        }
      ]
    },
    {
      "cell_type": "code",
      "source": [
        "print(y)"
      ],
      "metadata": {
        "colab": {
          "base_uri": "https://localhost:8080/"
        },
        "id": "KjF7f0O0onFC",
        "outputId": "bd11b382-d9a3-4868-ebb9-a958483b6b1d"
      },
      "execution_count": 175,
      "outputs": [
        {
          "output_type": "stream",
          "name": "stdout",
          "text": [
            "['NO' 'YES' 'YES' ... 'NO' 'NO' 'YES']\n"
          ]
        }
      ]
    },
    {
      "cell_type": "code",
      "source": [
        "#fixing the casing issues in club/dept. column\n",
        "def replace_value(value):\n",
        "    if value == 's':\n",
        "        return 'sutt'\n",
        "    elif value == 'd' or value == 'v':\n",
        "        return 'dvm'\n",
        "    elif value == 'g':\n",
        "        return 'gaming club'\n",
        "    elif value == 'm':\n",
        "        return 'mountaineering club'\n",
        "    else:\n",
        "        return value\n",
        "\n",
        "\n",
        "dataset[' CLUB / DEPARTMENT'] = dataset[' CLUB / DEPARTMENT'].str.lower().str[0].apply(replace_value)\n",
        "\n",
        "# Print the updated column\n",
        "print(dataset[' CLUB / DEPARTMENT'])\n"
      ],
      "metadata": {
        "id": "2mUAXAcy2qfJ",
        "outputId": "98624140-bffd-4653-e4ec-3aa75afec175",
        "colab": {
          "base_uri": "https://localhost:8080/"
        }
      },
      "execution_count": 198,
      "outputs": [
        {
          "output_type": "stream",
          "name": "stdout",
          "text": [
            "0               NaN\n",
            "1               NaN\n",
            "2               NaN\n",
            "3               NaN\n",
            "4               NaN\n",
            "           ...     \n",
            "1094            NaN\n",
            "1095            NaN\n",
            "1096    gaming club\n",
            "1097            NaN\n",
            "1098            NaN\n",
            "Name:  CLUB / DEPARTMENT, Length: 1099, dtype: object\n"
          ]
        }
      ]
    },
    {
      "cell_type": "code",
      "source": [
        "#taking care of missing values\n",
        "#this code replaces the missing value with the mean of that particular column\n",
        "\n",
        "columns_to_impute = [1,3,4,7,9,13,14]\n",
        "X[:, columns_to_impute] = X[:, columns_to_impute].astype(float)\n",
        "\n",
        "from sklearn.impute import SimpleImputer\n",
        "imputer = SimpleImputer(missing_values=np.nan, strategy='mean')\n",
        "imputer.fit(X[:, columns_to_impute])\n",
        "X[:, columns_to_impute] = imputer.transform(X[:, columns_to_impute])"
      ],
      "metadata": {
        "id": "aCZA4m0dSd-A"
      },
      "execution_count": 177,
      "outputs": []
    },
    {
      "cell_type": "code",
      "source": [
        "print(X)"
      ],
      "metadata": {
        "colab": {
          "base_uri": "https://localhost:8080/"
        },
        "id": "ZlMA6hLtT2Ae",
        "outputId": "32a01b1a-ed04-4516-f042-328f4767513c"
      },
      "execution_count": 178,
      "outputs": [
        {
          "output_type": "stream",
          "name": "stdout",
          "text": [
            "[['male' 19.0 'BITSAT' ... 'LITE' 20495.0 5.0]\n",
            " ['female' 21.0 'DASA' ... 'GHOT' 2361.0 0.2]\n",
            " ['female' 20.0 'BITSAT' ... 'GHOT' 8548.0 0.3]\n",
            " ...\n",
            " ['female' 21.0 'BITSAT' ... 'LITE' 17559.0 5.4]\n",
            " ['male' 22.0 'DASA' ... 'GHOT' 16411.0 8.7]\n",
            " ['female' 17.0 'BITSAT' ... 'GHOT' 5476.0 0.25]]\n"
          ]
        }
      ]
    },
    {
      "cell_type": "code",
      "source": [
        "#encoding the categorical data using one hot encoding\n",
        "#independent variable\n",
        "from sklearn.compose import ColumnTransformer\n",
        "from sklearn.preprocessing import OneHotEncoder\n",
        "\n",
        "dataset.iloc[:, 5].replace('', 'NA', inplace=True)\n",
        "\n",
        "ct = ColumnTransformer(transformers=[('encoder', OneHotEncoder(), [0,2,5,6,10,11,12])], remainder='passthrough')\n",
        "X = np.array(ct.fit_transform(X))"
      ],
      "metadata": {
        "id": "8UoxYvdgkSPR"
      },
      "execution_count": 179,
      "outputs": []
    },
    {
      "cell_type": "code",
      "source": [
        "print(X)"
      ],
      "metadata": {
        "colab": {
          "base_uri": "https://localhost:8080/"
        },
        "id": "7KyiL1rokd9v",
        "outputId": "d43f4adc-3ecd-421f-dc70-2948efa52fc1"
      },
      "execution_count": 180,
      "outputs": [
        {
          "output_type": "stream",
          "name": "stdout",
          "text": [
            "[[0.0 1.0 1.0 ... 4.0 20495.0 5.0]\n",
            " [1.0 0.0 0.0 ... 1.0 2361.0 0.2]\n",
            " [1.0 0.0 1.0 ... 4.0 8548.0 0.3]\n",
            " ...\n",
            " [1.0 0.0 1.0 ... 4.0 17559.0 5.4]\n",
            " [0.0 1.0 0.0 ... 3.0 16411.0 8.7]\n",
            " [1.0 0.0 1.0 ... 1.0 5476.0 0.25]]\n"
          ]
        }
      ]
    },
    {
      "cell_type": "code",
      "source": [
        "#encoding dependent variable\n",
        "from sklearn.preprocessing import LabelEncoder\n",
        "le = LabelEncoder()\n",
        "y = le.fit_transform(y)"
      ],
      "metadata": {
        "id": "thi6QTwcwmBg"
      },
      "execution_count": 181,
      "outputs": []
    },
    {
      "cell_type": "code",
      "source": [
        "print(y)"
      ],
      "metadata": {
        "colab": {
          "base_uri": "https://localhost:8080/"
        },
        "id": "wvZ9NH-gwuCD",
        "outputId": "a6974271-3652-47bd-cdcf-0072fc779f58"
      },
      "execution_count": 182,
      "outputs": [
        {
          "output_type": "stream",
          "name": "stdout",
          "text": [
            "[0 1 1 ... 0 0 1]\n"
          ]
        }
      ]
    },
    {
      "cell_type": "code",
      "source": [
        "#splitting the dataset into training set and test set\n",
        "from sklearn.model_selection import train_test_split\n",
        "X_train, X_test, y_train, y_test = train_test_split(X, y, test_size = 0.2, random_state = 1)"
      ],
      "metadata": {
        "id": "vdkHQQlGw4T1"
      },
      "execution_count": 183,
      "outputs": []
    },
    {
      "cell_type": "code",
      "source": [
        "print(X_train)"
      ],
      "metadata": {
        "colab": {
          "base_uri": "https://localhost:8080/"
        },
        "id": "9ssluzRWxDIW",
        "outputId": "fcacd522-f2ba-4ce5-f202-78c87990b899"
      },
      "execution_count": 184,
      "outputs": [
        {
          "output_type": "stream",
          "name": "stdout",
          "text": [
            "[[0.0 1.0 1.0 ... 4.0 15140.0 8.6]\n",
            " [0.0 1.0 1.0 ... 4.0 13289.0 7.8]\n",
            " [1.0 0.0 0.0 ... 4.0 4086.0 0.2]\n",
            " ...\n",
            " [1.0 0.0 1.0 ... 4.0 17559.0 5.4]\n",
            " [0.0 1.0 0.0 ... 0.0 19499.0 9.9]\n",
            " [1.0 0.0 0.0 ... 4.0 6819.0 0.25]]\n"
          ]
        }
      ]
    },
    {
      "cell_type": "code",
      "source": [
        "print(X_test)"
      ],
      "metadata": {
        "colab": {
          "base_uri": "https://localhost:8080/"
        },
        "id": "ABcwPKsOxGLq",
        "outputId": "14717b74-b0fd-4235-a79d-8c222385323a"
      },
      "execution_count": 185,
      "outputs": [
        {
          "output_type": "stream",
          "name": "stdout",
          "text": [
            "[[1.0 0.0 0.0 ... 4.0 7746.0 0.35]\n",
            " [0.0 1.0 1.0 ... 3.0 15944.0 4.3]\n",
            " [1.0 0.0 0.0 ... 0.0 2357.0 0.45]\n",
            " ...\n",
            " [0.0 1.0 1.0 ... 2.0 12406.0 9.0]\n",
            " [0.0 1.0 1.0 ... 1.0 16605.0 9.0]\n",
            " [0.0 1.0 0.0 ... 0.0 12061.0 3.4]]\n"
          ]
        }
      ]
    },
    {
      "cell_type": "code",
      "source": [
        "print(y_train)"
      ],
      "metadata": {
        "colab": {
          "base_uri": "https://localhost:8080/"
        },
        "id": "Qh8gBE9-xIKG",
        "outputId": "475f98a9-2e46-4a99-afc0-7ce25ff31486"
      },
      "execution_count": 186,
      "outputs": [
        {
          "output_type": "stream",
          "name": "stdout",
          "text": [
            "[0 0 1 1 1 0 0 0 0 0 1 0 1 0 0 0 1 0 1 1 1 1 0 0 0 0 1 0 0 0 0 0 0 1 0 0 0\n",
            " 1 0 0 1 1 0 1 1 0 1 0 1 0 0 0 0 0 0 1 1 1 0 0 1 1 0 0 0 0 0 0 0 1 0 0 0 0\n",
            " 1 1 0 0 1 0 0 0 0 1 0 0 0 1 0 0 0 0 1 0 1 1 0 0 0 1 0 1 0 0 0 0 1 0 1 0 0\n",
            " 1 0 1 0 1 1 1 1 0 0 1 0 0 1 1 1 1 1 1 1 0 0 0 1 0 0 1 0 0 0 0 0 1 0 1 0 0\n",
            " 0 1 0 0 0 1 0 0 0 0 1 1 1 0 0 0 0 0 0 0 1 1 1 0 0 0 1 0 1 1 0 1 0 0 1 0 1\n",
            " 0 0 1 0 1 1 1 0 0 0 1 1 0 1 0 0 0 0 1 1 0 1 0 0 0 0 0 1 1 0 1 0 1 1 0 1 0\n",
            " 1 0 0 0 0 0 1 0 0 0 0 0 1 0 0 0 1 0 0 1 0 0 1 0 0 1 0 1 1 0 1 0 0 0 0 1 0\n",
            " 1 1 1 0 0 0 1 0 1 0 0 0 0 1 1 0 1 0 1 0 1 1 1 0 1 0 1 0 0 1 0 1 0 0 0 1 1\n",
            " 0 1 1 0 0 0 0 1 1 0 0 1 1 0 0 1 0 1 1 1 1 1 0 1 1 0 1 0 0 0 1 0 0 1 1 1 1\n",
            " 0 0 0 1 0 1 1 1 0 1 1 1 1 0 0 0 0 0 1 1 1 1 0 0 1 0 0 1 0 0 1 1 0 0 1 1 0\n",
            " 0 0 0 1 0 1 0 0 1 1 0 0 0 1 1 0 0 0 1 0 0 0 1 0 0 0 1 0 1 0 0 0 0 1 0 0 0\n",
            " 0 1 1 1 0 0 0 1 0 1 0 0 0 0 0 1 0 0 1 0 0 1 0 1 1 1 0 1 0 0 1 0 0 0 1 1 0\n",
            " 1 0 0 0 0 1 0 0 1 0 0 1 0 0 1 0 1 0 0 1 0 1 1 0 1 1 0 0 0 1 0 0 1 0 1 1 0\n",
            " 1 0 0 0 0 0 0 0 1 0 0 0 0 0 0 0 1 0 1 1 0 0 0 0 1 1 0 0 0 0 0 1 1 1 0 1 1\n",
            " 1 0 1 1 1 0 0 0 1 1 0 1 1 0 0 0 1 1 1 0 0 1 0 1 1 1 0 1 0 1 1 0 0 1 0 1 1\n",
            " 1 0 0 1 0 1 1 0 1 1 1 0 1 1 1 1 1 0 0 0 0 0 0 0 0 0 0 0 0 1 0 0 0 1 1 0 0\n",
            " 1 1 1 0 0 1 0 0 1 1 0 1 0 1 1 0 0 0 0 1 1 0 0 0 0 0 0 0 0 0 0 0 1 0 0 0 1\n",
            " 0 1 1 0 0 0 0 1 0 0 0 0 1 1 0 0 0 1 1 1 1 0 0 1 0 0 1 0 0 1 0 0 1 0 0 1 0\n",
            " 0 0 0 1 1 1 0 0 1 0 0 0 0 0 0 1 1 0 0 0 0 1 1 1 0 1 1 1 0 1 0 0 1 0 0 1 1\n",
            " 0 0 0 1 1 1 0 1 1 0 1 0 0 0 0 1 0 1 0 0 0 0 1 1 0 0 1 1 1 0 0 0 0 0 0 0 1\n",
            " 0 0 0 1 1 0 1 0 0 0 0 0 0 0 0 1 0 1 0 1 1 1 1 0 0 0 0 0 1 1 0 0 1 0 0 0 0\n",
            " 0 1 0 0 1 0 1 1 0 0 0 0 1 0 0 0 0 1 0 1 0 0 0 0 0 1 0 1 1 0 1 0 0 0 1 0 0\n",
            " 1 1 0 1 0 1 0 0 0 0 0 1 0 0 0 0 0 0 0 0 1 0 1 0 1 1 0 0 0 0 0 0 0 1 0 0 0\n",
            " 0 0 0 1 0 0 0 0 0 0 0 0 1 1 0 0 0 0 0 0 1 1 1 0 1 0 0 1]\n"
          ]
        }
      ]
    },
    {
      "cell_type": "code",
      "source": [
        "print(y_test)"
      ],
      "metadata": {
        "colab": {
          "base_uri": "https://localhost:8080/"
        },
        "id": "M-wk2bX-xLFF",
        "outputId": "58bdadf0-62ef-4f6b-8ca6-a9c2094ad308"
      },
      "execution_count": 187,
      "outputs": [
        {
          "output_type": "stream",
          "name": "stdout",
          "text": [
            "[1 0 1 1 0 1 0 0 1 0 0 1 1 0 0 0 0 0 0 1 0 1 0 1 1 1 1 1 1 0 0 0 1 0 1 1 0\n",
            " 1 1 0 0 1 1 0 1 1 1 1 0 1 1 0 1 0 0 0 1 1 0 1 0 0 0 0 0 1 0 0 0 0 0 1 1 0\n",
            " 0 1 0 1 0 0 1 0 0 0 0 1 0 0 1 0 0 0 1 0 0 1 0 0 0 1 0 0 1 0 1 0 0 1 1 0 0\n",
            " 1 1 1 1 0 1 0 0 1 1 1 0 0 0 1 0 1 1 0 0 1 0 0 0 1 0 1 1 0 1 1 0 1 0 0 1 1\n",
            " 0 1 0 0 0 0 1 1 0 1 0 0 1 1 1 1 0 1 0 0 0 1 0 1 1 1 0 0 0 0 1 0 1 0 0 1 0\n",
            " 0 0 0 0 0 0 0 1 1 0 0 1 0 0 0 0 0 0 1 0 0 0 1 0 0 0 0 1 1 0 0 1 0 0 0]\n"
          ]
        }
      ]
    },
    {
      "cell_type": "code",
      "source": [
        "#feauture scaling using standaridization\n",
        "from sklearn.preprocessing import StandardScaler\n",
        "columns_to_stand = [1,3,4,7,9,13,14,15]\n",
        "sc = StandardScaler()\n",
        "X_train[:, columns_to_stand] = sc.fit_transform(X_train[:, columns_to_stand])\n",
        "X_test[:, columns_to_stand] = sc.transform(X_test[:, columns_to_stand])"
      ],
      "metadata": {
        "id": "jItD2o7Rxe4_"
      },
      "execution_count": 188,
      "outputs": []
    },
    {
      "cell_type": "code",
      "source": [
        "print(X_train)"
      ],
      "metadata": {
        "colab": {
          "base_uri": "https://localhost:8080/"
        },
        "id": "IwAB3qNQxkDp",
        "outputId": "cf58b754-8213-4f1b-f4e8-543e136b3faa"
      },
      "execution_count": 189,
      "outputs": [
        {
          "output_type": "stream",
          "name": "stdout",
          "text": [
            "[[0.0 0.7491854665119192 1.0 ... 4.0 15140.0 8.6]\n",
            " [0.0 0.7491854665119192 1.0 ... 4.0 13289.0 7.8]\n",
            " [1.0 -1.3347829672348437 0.0 ... 4.0 4086.0 0.2]\n",
            " ...\n",
            " [1.0 -1.3347829672348437 1.0 ... 4.0 17559.0 5.4]\n",
            " [0.0 0.7491854665119192 0.0 ... 0.0 19499.0 9.9]\n",
            " [1.0 -1.3347829672348437 0.0 ... 4.0 6819.0 0.25]]\n"
          ]
        }
      ]
    },
    {
      "cell_type": "code",
      "source": [
        "print(X_test)"
      ],
      "metadata": {
        "colab": {
          "base_uri": "https://localhost:8080/"
        },
        "id": "nGbu5edXxmg0",
        "outputId": "d3f66995-3f14-42ea-83ae-f9d9a0acdaa2"
      },
      "execution_count": 190,
      "outputs": [
        {
          "output_type": "stream",
          "name": "stdout",
          "text": [
            "[[1.0 -1.3347829672348437 0.0 ... 4.0 7746.0 0.35]\n",
            " [0.0 0.7491854665119192 1.0 ... 3.0 15944.0 4.3]\n",
            " [1.0 -1.3347829672348437 0.0 ... 0.0 2357.0 0.45]\n",
            " ...\n",
            " [0.0 0.7491854665119192 1.0 ... 2.0 12406.0 9.0]\n",
            " [0.0 0.7491854665119192 1.0 ... 1.0 16605.0 9.0]\n",
            " [0.0 0.7491854665119192 0.0 ... 0.0 12061.0 3.4]]\n"
          ]
        }
      ]
    },
    {
      "cell_type": "code",
      "source": [
        "import seaborn as sns\n",
        "sns.countplot(x='DAYS SINCE LAST SHOWER', data=dataset, palette='hls', hue='GPL')\n",
        "plt.xticks(rotation=45)\n",
        "plt.show()"
      ],
      "metadata": {
        "colab": {
          "base_uri": "https://localhost:8080/",
          "height": 458
        },
        "id": "0DwsiVogmKC1",
        "outputId": "d841a7f1-32b1-4039-f33e-aa43e7214912"
      },
      "execution_count": 191,
      "outputs": [
        {
          "output_type": "display_data",
          "data": {
            "text/plain": [
              "<Figure size 640x480 with 1 Axes>"
            ],
            "image/png": "[encoded data removed]"
          },
          "metadata": {}
        }
      ]
    },
    {
      "cell_type": "code",
      "source": [
        "import seaborn as sns\n",
        "sns.countplot(x='SEX', data=dataset, palette='hls', hue='GPL')\n",
        "plt.xticks(rotation=45)\n",
        "plt.show()"
      ],
      "metadata": {
        "id": "cjD4hGRSzX0C",
        "outputId": "a7f57945-f0ab-4110-c578-6d19acfce8ff",
        "colab": {
          "base_uri": "https://localhost:8080/",
          "height": 484
        }
      },
      "execution_count": 192,
      "outputs": [
        {
          "output_type": "display_data",
          "data": {
            "text/plain": [
              "<Figure size 640x480 with 1 Axes>"
            ],
            "image/png": "[encoded data removed]"
          },
          "metadata": {}
        }
      ]
    },
    {
      "cell_type": "code",
      "source": [
        "import seaborn as sns\n",
        "sns.countplot(x=' CLUB / DEPARTMENT', data=dataset, palette='hls', hue='GPL')\n",
        "plt.xticks(rotation=45)\n",
        "plt.show()"
      ],
      "metadata": {
        "id": "ID8VN9rvzs0u",
        "outputId": "88a258d6-8851-4de1-cd53-e29b00cbc8c2",
        "colab": {
          "base_uri": "https://localhost:8080/",
          "height": 547
        }
      },
      "execution_count": 193,
      "outputs": [
        {
          "output_type": "display_data",
          "data": {
            "text/plain": [
              "<Figure size 640x480 with 1 Axes>"
            ],
            "image/png": "[encoded data removed]"
          },
          "metadata": {}
        }
      ]
    },
    {
      "cell_type": "code",
      "source": [
        "#ridge model\n",
        "from sklearn.linear_model import Ridge\n",
        "classifier = Ridge(random_state = 0)\n",
        "classifier.fit(X_train[:,[0,1,2,3,4,5,6,7,8,9,10,11,12,13,14]], y_train)"
      ],
      "metadata": {
        "colab": {
          "base_uri": "https://localhost:8080/",
          "height": 75
        },
        "id": "lAZkijgSl5O1",
        "outputId": "3408cc74-335a-4188-ba01-69e44656d300"
      },
      "execution_count": 194,
      "outputs": [
        {
          "output_type": "execute_result",
          "data": {
            "text/plain": [
              "Ridge(random_state=0)"
            ],
            "text/html": [
              "<style>#sk-container-id-5 {color: black;background-color: white;}#sk-container-id-5 pre{padding: 0;}#sk-container-id-5 div.sk-toggleable {background-color: white;}#sk-container-id-5 label.sk-toggleable__label {cursor: pointer;display: block;width: 100%;margin-bottom: 0;padding: 0.3em;box-sizing: border-box;text-align: center;}#sk-container-id-5 label.sk-toggleable__label-arrow:before {content: \"▸\";float: left;margin-right: 0.25em;color: #696969;}#sk-container-id-5 label.sk-toggleable__label-arrow:hover:before {color: black;}#sk-container-id-5 div.sk-estimator:hover label.sk-toggleable__label-arrow:before {color: black;}#sk-container-id-5 div.sk-toggleable__content {max-height: 0;max-width: 0;overflow: hidden;text-align: left;background-color: #f0f8ff;}#sk-container-id-5 div.sk-toggleable__content pre {margin: 0.2em;color: black;border-radius: 0.25em;background-color: #f0f8ff;}#sk-container-id-5 input.sk-toggleable__control:checked~div.sk-toggleable__content {max-height: 200px;max-width: 100%;overflow: auto;}#sk-container-id-5 input.sk-toggleable__control:checked~label.sk-toggleable__label-arrow:before {content: \"▾\";}#sk-container-id-5 div.sk-estimator input.sk-toggleable__control:checked~label.sk-toggleable__label {background-color: #d4ebff;}#sk-container-id-5 div.sk-label input.sk-toggleable__control:checked~label.sk-toggleable__label {background-color: #d4ebff;}#sk-container-id-5 input.sk-hidden--visually {border: 0;clip: rect(1px 1px 1px 1px);clip: rect(1px, 1px, 1px, 1px);height: 1px;margin: -1px;overflow: hidden;padding: 0;position: absolute;width: 1px;}#sk-container-id-5 div.sk-estimator {font-family: monospace;background-color: #f0f8ff;border: 1px dotted black;border-radius: 0.25em;box-sizing: border-box;margin-bottom: 0.5em;}#sk-container-id-5 div.sk-estimator:hover {background-color: #d4ebff;}#sk-container-id-5 div.sk-parallel-item::after {content: \"\";width: 100%;border-bottom: 1px solid gray;flex-grow: 1;}#sk-container-id-5 div.sk-label:hover label.sk-toggleable__label {background-color: #d4ebff;}#sk-container-id-5 div.sk-serial::before {content: \"\";position: absolute;border-left: 1px solid gray;box-sizing: border-box;top: 0;bottom: 0;left: 50%;z-index: 0;}#sk-container-id-5 div.sk-serial {display: flex;flex-direction: column;align-items: center;background-color: white;padding-right: 0.2em;padding-left: 0.2em;position: relative;}#sk-container-id-5 div.sk-item {position: relative;z-index: 1;}#sk-container-id-5 div.sk-parallel {display: flex;align-items: stretch;justify-content: center;background-color: white;position: relative;}#sk-container-id-5 div.sk-item::before, #sk-container-id-5 div.sk-parallel-item::before {content: \"\";position: absolute;border-left: 1px solid gray;box-sizing: border-box;top: 0;bottom: 0;left: 50%;z-index: -1;}#sk-container-id-5 div.sk-parallel-item {display: flex;flex-direction: column;z-index: 1;position: relative;background-color: white;}#sk-container-id-5 div.sk-parallel-item:first-child::after {align-self: flex-end;width: 50%;}#sk-container-id-5 div.sk-parallel-item:last-child::after {align-self: flex-start;width: 50%;}#sk-container-id-5 div.sk-parallel-item:only-child::after {width: 0;}#sk-container-id-5 div.sk-dashed-wrapped {border: 1px dashed gray;margin: 0 0.4em 0.5em 0.4em;box-sizing: border-box;padding-bottom: 0.4em;background-color: white;}#sk-container-id-5 div.sk-label label {font-family: monospace;font-weight: bold;display: inline-block;line-height: 1.2em;}#sk-container-id-5 div.sk-label-container {text-align: center;}#sk-container-id-5 div.sk-container {/* jupyter's `normalize.less` sets `[hidden] { display: none; }` but bootstrap.min.css set `[hidden] { display: none !important; }` so we also need the `!important` here to be able to override the default hidden behavior on the sphinx rendered scikit-learn.org. See: https://github.com/scikit-learn/scikit-learn/issues/21755 */display: inline-block !important;position: relative;}#sk-container-id-5 div.sk-text-repr-fallback {display: none;}</style><div id=\"sk-container-id-5\" class=\"sk-top-container\"><div class=\"sk-text-repr-fallback\"><pre>Ridge(random_state=0)</pre><b>In a Jupyter environment, please rerun this cell to show the HTML representation or trust the notebook. <br />On GitHub, the HTML representation is unable to render, please try loading this page with nbviewer.org.</b></div><div class=\"sk-container\" hidden><div class=\"sk-item\"><div class=\"sk-estimator sk-toggleable\"><input class=\"sk-toggleable__control sk-hidden--visually\" id=\"sk-estimator-id-5\" type=\"checkbox\" checked><label for=\"sk-estimator-id-5\" class=\"sk-toggleable__label sk-toggleable__label-arrow\">Ridge</label><div class=\"sk-toggleable__content\"><pre>Ridge(random_state=0)</pre></div></div></div></div></div>"
            ]
          },
          "metadata": {},
          "execution_count": 194
        }
      ]
    },
    {
      "cell_type": "code",
      "source": [
        "y_pred = classifier.predict(X_test[:,[0,1,2,3,4,5,6,7,8,9,10,11,12,13,14]])\n",
        "print(np.concatenate((y_pred.reshape(len(y_pred),1), y_test.reshape(len(y_test),1)),1))"
      ],
      "metadata": {
        "colab": {
          "base_uri": "https://localhost:8080/"
        },
        "id": "fPi6xkcPwPok",
        "outputId": "b5773f35-fa6b-4656-fd35-9b5735b41260"
      },
      "execution_count": 195,
      "outputs": [
        {
          "output_type": "stream",
          "name": "stdout",
          "text": [
            "[[0.96272025 1.        ]\n",
            " [0.09233901 0.        ]\n",
            " [0.96272025 1.        ]\n",
            " [0.42153532 1.        ]\n",
            " [0.21897455 0.        ]\n",
            " [0.96272025 1.        ]\n",
            " [0.09233901 0.        ]\n",
            " [0.42153532 0.        ]\n",
            " [0.76015948 1.        ]\n",
            " [0.63352394 0.        ]\n",
            " [0.42153532 0.        ]\n",
            " [0.63352394 1.        ]\n",
            " [0.76015948 1.        ]\n",
            " [0.63352394 0.        ]\n",
            " [0.09233901 0.        ]\n",
            " [0.09233901 0.        ]\n",
            " [0.09233901 0.        ]\n",
            " [0.42153532 0.        ]\n",
            " [0.76015948 0.        ]\n",
            " [0.63352394 1.        ]\n",
            " [0.63352394 0.        ]\n",
            " [0.25118532 1.        ]\n",
            " [0.63352394 0.        ]\n",
            " [0.96272025 1.        ]\n",
            " [0.42153532 1.        ]\n",
            " [0.96272025 1.        ]\n",
            " [0.63352394 1.        ]\n",
            " [0.96272025 1.        ]\n",
            " [0.63352394 1.        ]\n",
            " [0.09233901 0.        ]\n",
            " [0.09233901 0.        ]\n",
            " [0.63352394 0.        ]\n",
            " [0.76015948 1.        ]\n",
            " [0.09233901 0.        ]\n",
            " [0.76015948 1.        ]\n",
            " [0.76015948 1.        ]\n",
            " [0.01968627 0.        ]\n",
            " [0.96272025 1.        ]\n",
            " [0.42153532 1.        ]\n",
            " [0.6657347  0.        ]\n",
            " [0.42153532 0.        ]\n",
            " [0.42153532 1.        ]\n",
            " [0.76015948 1.        ]\n",
            " [0.21897455 0.        ]\n",
            " [0.63352394 1.        ]\n",
            " [0.09233901 1.        ]\n",
            " [0.63352394 1.        ]\n",
            " [0.42153532 1.        ]\n",
            " [0.09233901 0.        ]\n",
            " [0.76015948 1.        ]\n",
            " [0.42153532 1.        ]\n",
            " [0.21897455 0.        ]\n",
            " [0.63352394 1.        ]\n",
            " [0.42153532 0.        ]\n",
            " [0.09233901 0.        ]\n",
            " [0.09233901 0.        ]\n",
            " [0.42153532 1.        ]\n",
            " [0.09233901 1.        ]\n",
            " [0.21897455 0.        ]\n",
            " [0.76015948 1.        ]\n",
            " [0.09233901 0.        ]\n",
            " [0.09233901 0.        ]\n",
            " [0.09233901 0.        ]\n",
            " [0.09233901 0.        ]\n",
            " [0.25056796 0.        ]\n",
            " [0.96272025 1.        ]\n",
            " [0.21897455 0.        ]\n",
            " [0.09233901 0.        ]\n",
            " [0.21897455 0.        ]\n",
            " [0.09233901 0.        ]\n",
            " [0.42153532 0.        ]\n",
            " [0.96272025 1.        ]\n",
            " [0.42153532 1.        ]\n",
            " [0.42153532 0.        ]\n",
            " [0.21897455 0.        ]\n",
            " [0.96272025 1.        ]\n",
            " [0.09233901 0.        ]\n",
            " [0.42153532 1.        ]\n",
            " [0.42153532 0.        ]\n",
            " [0.25118532 0.        ]\n",
            " [0.63352394 1.        ]\n",
            " [0.21897455 0.        ]\n",
            " [0.09233901 0.        ]\n",
            " [0.42153532 0.        ]\n",
            " [0.63352394 0.        ]\n",
            " [0.96272025 1.        ]\n",
            " [0.42153532 0.        ]\n",
            " [0.09233901 0.        ]\n",
            " [0.42153532 1.        ]\n",
            " [0.09233901 0.        ]\n",
            " [0.42153532 0.        ]\n",
            " [0.21897455 0.        ]\n",
            " [0.96272025 1.        ]\n",
            " [0.42153532 0.        ]\n",
            " [0.42153532 0.        ]\n",
            " [0.63352394 1.        ]\n",
            " [0.09233901 0.        ]\n",
            " [0.09233901 0.        ]\n",
            " [0.63352394 0.        ]\n",
            " [0.09233901 1.        ]\n",
            " [0.63352394 0.        ]\n",
            " [0.09233901 0.        ]\n",
            " [0.63352394 1.        ]\n",
            " [0.42153532 0.        ]\n",
            " [0.63352394 1.        ]\n",
            " [0.63352394 0.        ]\n",
            " [0.42153532 0.        ]\n",
            " [0.63352394 1.        ]\n",
            " [0.09233901 1.        ]\n",
            " [0.09233901 0.        ]\n",
            " [0.09233901 0.        ]\n",
            " [0.63352394 1.        ]\n",
            " [0.96272025 1.        ]\n",
            " [0.09233901 1.        ]\n",
            " [0.09233901 1.        ]\n",
            " [0.09233901 0.        ]\n",
            " [0.76015948 1.        ]\n",
            " [0.09233901 0.        ]\n",
            " [0.42153532 0.        ]\n",
            " [0.96272025 1.        ]\n",
            " [0.09233901 1.        ]\n",
            " [0.63352394 1.        ]\n",
            " [0.09233901 0.        ]\n",
            " [0.09233901 0.        ]\n",
            " [0.42153532 0.        ]\n",
            " [0.09233901 1.        ]\n",
            " [0.09233901 0.        ]\n",
            " [0.76015948 1.        ]\n",
            " [0.42153532 1.        ]\n",
            " [0.63352394 0.        ]\n",
            " [0.42153532 0.        ]\n",
            " [0.09233901 1.        ]\n",
            " [0.01968627 0.        ]\n",
            " [0.09233901 0.        ]\n",
            " [0.21897455 0.        ]\n",
            " [0.42153532 1.        ]\n",
            " [0.63352394 0.        ]\n",
            " [0.96272025 1.        ]\n",
            " [0.76015948 1.        ]\n",
            " [0.09233901 0.        ]\n",
            " [0.63352394 1.        ]\n",
            " [0.09233901 1.        ]\n",
            " [0.09233901 0.        ]\n",
            " [0.63352394 1.        ]\n",
            " [0.09233901 0.        ]\n",
            " [0.42153532 0.        ]\n",
            " [0.79237024 1.        ]\n",
            " [0.96272025 1.        ]\n",
            " [0.63352394 0.        ]\n",
            " [0.63352394 1.        ]\n",
            " [0.63352394 0.        ]\n",
            " [0.09233901 0.        ]\n",
            " [0.21897455 0.        ]\n",
            " [0.09233901 0.        ]\n",
            " [0.09233901 1.        ]\n",
            " [0.76015948 1.        ]\n",
            " [0.09233901 0.        ]\n",
            " [0.21897455 1.        ]\n",
            " [0.09233901 0.        ]\n",
            " [0.09233901 0.        ]\n",
            " [0.76015948 1.        ]\n",
            " [0.42153532 1.        ]\n",
            " [0.96272025 1.        ]\n",
            " [0.63352394 1.        ]\n",
            " [0.09233901 0.        ]\n",
            " [0.42153532 1.        ]\n",
            " [0.09233901 0.        ]\n",
            " [0.45374608 0.        ]\n",
            " [0.21897455 0.        ]\n",
            " [0.63352394 1.        ]\n",
            " [0.09233901 0.        ]\n",
            " [0.96272025 1.        ]\n",
            " [0.21897455 1.        ]\n",
            " [0.63352394 1.        ]\n",
            " [0.09233901 0.        ]\n",
            " [0.21897455 0.        ]\n",
            " [0.09233901 0.        ]\n",
            " [0.09233901 0.        ]\n",
            " [0.21897455 1.        ]\n",
            " [0.96272025 0.        ]\n",
            " [0.42153532 1.        ]\n",
            " [0.09233901 0.        ]\n",
            " [0.21897455 0.        ]\n",
            " [0.76015948 1.        ]\n",
            " [0.42153532 0.        ]\n",
            " [0.09233901 0.        ]\n",
            " [0.21897455 0.        ]\n",
            " [0.09233901 0.        ]\n",
            " [0.09233901 0.        ]\n",
            " [0.09233901 0.        ]\n",
            " [0.09233901 0.        ]\n",
            " [0.63352394 0.        ]\n",
            " [0.76015948 1.        ]\n",
            " [0.21897455 1.        ]\n",
            " [0.42153532 0.        ]\n",
            " [0.01968627 0.        ]\n",
            " [0.96272025 1.        ]\n",
            " [0.42153532 0.        ]\n",
            " [0.42153532 0.        ]\n",
            " [0.09233901 0.        ]\n",
            " [0.09233901 0.        ]\n",
            " [0.09233901 0.        ]\n",
            " [0.09233901 0.        ]\n",
            " [0.76015948 1.        ]\n",
            " [0.21897455 0.        ]\n",
            " [0.09233901 0.        ]\n",
            " [0.09233901 0.        ]\n",
            " [0.63352394 1.        ]\n",
            " [0.09233901 0.        ]\n",
            " [0.42153532 0.        ]\n",
            " [0.09233901 0.        ]\n",
            " [0.09233901 0.        ]\n",
            " [0.96272025 1.        ]\n",
            " [0.21897455 1.        ]\n",
            " [0.09233901 0.        ]\n",
            " [0.63352394 0.        ]\n",
            " [0.42153532 1.        ]\n",
            " [0.09233901 0.        ]\n",
            " [0.09233901 0.        ]\n",
            " [0.21897455 0.        ]]\n"
          ]
        }
      ]
    },
    {
      "cell_type": "code",
      "source": [
        "y_pred_roundoff=np.where(np.array(y_pred)>0.5,1,0)"
      ],
      "metadata": {
        "id": "xTMCvkQnnTk-"
      },
      "execution_count": 196,
      "outputs": []
    },
    {
      "cell_type": "code",
      "source": [
        "#confusion matrix and accuracy\n",
        "from sklearn.metrics import confusion_matrix, accuracy_score\n",
        "cm = confusion_matrix(y_test, y_pred_roundoff)\n",
        "print(cm)\n",
        "accuracy_score(y_test, y_pred_roundoff)"
      ],
      "metadata": {
        "colab": {
          "base_uri": "https://localhost:8080/"
        },
        "id": "Ed4if1OTGkWX",
        "outputId": "ef14ed48-f587-44b1-e589-729a70a44f0c"
      },
      "execution_count": 197,
      "outputs": [
        {
          "output_type": "stream",
          "name": "stdout",
          "text": [
            "[[111  18]\n",
            " [ 33  58]]\n"
          ]
        },
        {
          "output_type": "execute_result",
          "data": {
            "text/plain": [
              "0.7681818181818182"
            ]
          },
          "metadata": {},
          "execution_count": 197
        }
      ]
    }
  ]
}