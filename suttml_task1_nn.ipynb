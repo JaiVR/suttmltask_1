{
  "nbformat": 4,
  "nbformat_minor": 0,
  "metadata": {
    "colab": {
      "provenance": [],
      "authorship_tag": "ABX9TyNQZWVZnAYVE4HNqd3dQyqJ",
      "include_colab_link": true
    },
    "kernelspec": {
      "name": "python3",
      "display_name": "Python 3"
    },
    "language_info": {
      "name": "python"
    }
  },
  "cells": [
    {
      "cell_type": "markdown",
      "metadata": {
        "id": "view-in-github",
        "colab_type": "text"
      },
      "source": [
        "<a href=\"https://colab.research.google.com/github/JaiVR/suttmltask_1/blob/main/suttml_task1_nn.ipynb\" target=\"_parent\"><img src=\"https://colab.research.google.com/assets/colab-badge.svg\" alt=\"Open In Colab\"/></a>"
      ]
    },
    {
      "cell_type": "code",
      "execution_count": 121,
      "metadata": {
        "id": "USQ8jG00HomK"
      },
      "outputs": [],
      "source": [
        "import torch\n",
        "import torch.nn as nn\n",
        "import torch.nn.functional as F"
      ]
    },
    {
      "cell_type": "code",
      "source": [
        "import numpy as np\n",
        "import matplotlib.pyplot as plt\n",
        "import pandas as pd\n",
        "import seaborn as sns\n",
        "%matplotlib inline"
      ],
      "metadata": {
        "id": "NDdW6r5VIbiw"
      },
      "execution_count": 122,
      "outputs": []
    },
    {
      "cell_type": "code",
      "source": [
        "dataset= pd.read_csv('sutt.csv')"
      ],
      "metadata": {
        "id": "XNzYBCbMNkrD"
      },
      "execution_count": 123,
      "outputs": []
    },
    {
      "cell_type": "code",
      "source": [
        "dataset.head()"
      ],
      "metadata": {
        "colab": {
          "base_uri": "https://localhost:8080/",
          "height": 278
        },
        "id": "W10CASzp-yYI",
        "outputId": "41751a54-df8e-413d-9c36-a1ae6157b68c"
      },
      "execution_count": 124,
      "outputs": [
        {
          "output_type": "execute_result",
          "data": {
            "text/plain": [
              "      SEX   AGES ADMISSION MODE  CGPA - 1  CGPA-2  CLUB / DEPARTMENT  \\\n",
              "0    male   19.0         BITSAT      8.85     7.0                NaN   \n",
              "1  female   21.0           DASA      7.01     9.0                NaN   \n",
              "2  female   20.0         BITSAT      3.00     8.0                NaN   \n",
              "3  female    NaN           DASA       NaN     NaN                NaN   \n",
              "4    male   21.0         BITSAT      5.65     9.0                NaN   \n",
              "\n",
              "  BOARD STUDIED  DAYS SINCE LAST SHOWER   BIRTHDAY  TREATS GIVEN  HAS A S/O ?  \\\n",
              "0          CBSE                      12  4/22/2005             4          YES   \n",
              "1          ICSE                       1   8/8/2003             1          YES   \n",
              "2          CBSE                       5   5/5/2004             4          YES   \n",
              "3          CBSE                       7  10/6/2003             4          YES   \n",
              "4          CBSE                       7  3/15/2003             3          YES   \n",
              "\n",
              "  ATTENDS LECTURES CHARACTER  PIZZERIA EXPENDITURE (annual)  GRAMS / MONTH  \\\n",
              "0               NO      LITE                          20495            5.0   \n",
              "1               NO      GHOT                           2361            0.2   \n",
              "2               NO      GHOT                           8548            0.3   \n",
              "3               NO      GHOT                           4086            0.2   \n",
              "4               NO      LITE                          13767            8.5   \n",
              "\n",
              "   GPL  \n",
              "0   NO  \n",
              "1  YES  \n",
              "2  YES  \n",
              "3  YES  \n",
              "4   NO  "
            ],
            "text/html": [
              "\n",
              "  <div id=\"df-2fca1867-1552-4ca9-82c2-f81d9231d616\" class=\"colab-df-container\">\n",
              "    <div>\n",
              "<style scoped>\n",
              "    .dataframe tbody tr th:only-of-type {\n",
              "        vertical-align: middle;\n",
              "    }\n",
              "\n",
              "    .dataframe tbody tr th {\n",
              "        vertical-align: top;\n",
              "    }\n",
              "\n",
              "    .dataframe thead th {\n",
              "        text-align: right;\n",
              "    }\n",
              "</style>\n",
              "<table border=\"1\" class=\"dataframe\">\n",
              "  <thead>\n",
              "    <tr style=\"text-align: right;\">\n",
              "      <th></th>\n",
              "      <th>SEX</th>\n",
              "      <th>AGES</th>\n",
              "      <th>ADMISSION MODE</th>\n",
              "      <th>CGPA - 1</th>\n",
              "      <th>CGPA-2</th>\n",
              "      <th>CLUB / DEPARTMENT</th>\n",
              "      <th>BOARD STUDIED</th>\n",
              "      <th>DAYS SINCE LAST SHOWER</th>\n",
              "      <th>BIRTHDAY</th>\n",
              "      <th>TREATS GIVEN</th>\n",
              "      <th>HAS A S/O ?</th>\n",
              "      <th>ATTENDS LECTURES</th>\n",
              "      <th>CHARACTER</th>\n",
              "      <th>PIZZERIA EXPENDITURE (annual)</th>\n",
              "      <th>GRAMS / MONTH</th>\n",
              "      <th>GPL</th>\n",
              "    </tr>\n",
              "  </thead>\n",
              "  <tbody>\n",
              "    <tr>\n",
              "      <th>0</th>\n",
              "      <td>male</td>\n",
              "      <td>19.0</td>\n",
              "      <td>BITSAT</td>\n",
              "      <td>8.85</td>\n",
              "      <td>7.0</td>\n",
              "      <td>NaN</td>\n",
              "      <td>CBSE</td>\n",
              "      <td>12</td>\n",
              "      <td>4/22/2005</td>\n",
              "      <td>4</td>\n",
              "      <td>YES</td>\n",
              "      <td>NO</td>\n",
              "      <td>LITE</td>\n",
              "      <td>20495</td>\n",
              "      <td>5.0</td>\n",
              "      <td>NO</td>\n",
              "    </tr>\n",
              "    <tr>\n",
              "      <th>1</th>\n",
              "      <td>female</td>\n",
              "      <td>21.0</td>\n",
              "      <td>DASA</td>\n",
              "      <td>7.01</td>\n",
              "      <td>9.0</td>\n",
              "      <td>NaN</td>\n",
              "      <td>ICSE</td>\n",
              "      <td>1</td>\n",
              "      <td>8/8/2003</td>\n",
              "      <td>1</td>\n",
              "      <td>YES</td>\n",
              "      <td>NO</td>\n",
              "      <td>GHOT</td>\n",
              "      <td>2361</td>\n",
              "      <td>0.2</td>\n",
              "      <td>YES</td>\n",
              "    </tr>\n",
              "    <tr>\n",
              "      <th>2</th>\n",
              "      <td>female</td>\n",
              "      <td>20.0</td>\n",
              "      <td>BITSAT</td>\n",
              "      <td>3.00</td>\n",
              "      <td>8.0</td>\n",
              "      <td>NaN</td>\n",
              "      <td>CBSE</td>\n",
              "      <td>5</td>\n",
              "      <td>5/5/2004</td>\n",
              "      <td>4</td>\n",
              "      <td>YES</td>\n",
              "      <td>NO</td>\n",
              "      <td>GHOT</td>\n",
              "      <td>8548</td>\n",
              "      <td>0.3</td>\n",
              "      <td>YES</td>\n",
              "    </tr>\n",
              "    <tr>\n",
              "      <th>3</th>\n",
              "      <td>female</td>\n",
              "      <td>NaN</td>\n",
              "      <td>DASA</td>\n",
              "      <td>NaN</td>\n",
              "      <td>NaN</td>\n",
              "      <td>NaN</td>\n",
              "      <td>CBSE</td>\n",
              "      <td>7</td>\n",
              "      <td>10/6/2003</td>\n",
              "      <td>4</td>\n",
              "      <td>YES</td>\n",
              "      <td>NO</td>\n",
              "      <td>GHOT</td>\n",
              "      <td>4086</td>\n",
              "      <td>0.2</td>\n",
              "      <td>YES</td>\n",
              "    </tr>\n",
              "    <tr>\n",
              "      <th>4</th>\n",
              "      <td>male</td>\n",
              "      <td>21.0</td>\n",
              "      <td>BITSAT</td>\n",
              "      <td>5.65</td>\n",
              "      <td>9.0</td>\n",
              "      <td>NaN</td>\n",
              "      <td>CBSE</td>\n",
              "      <td>7</td>\n",
              "      <td>3/15/2003</td>\n",
              "      <td>3</td>\n",
              "      <td>YES</td>\n",
              "      <td>NO</td>\n",
              "      <td>LITE</td>\n",
              "      <td>13767</td>\n",
              "      <td>8.5</td>\n",
              "      <td>NO</td>\n",
              "    </tr>\n",
              "  </tbody>\n",
              "</table>\n",
              "</div>\n",
              "    <div class=\"colab-df-buttons\">\n",
              "\n",
              "  <div class=\"colab-df-container\">\n",
              "    <button class=\"colab-df-convert\" onclick=\"convertToInteractive('df-2fca1867-1552-4ca9-82c2-f81d9231d616')\"\n",
              "            title=\"Convert this dataframe to an interactive table.\"\n",
              "            style=\"display:none;\">\n",
              "\n",
              "  <svg xmlns=\"http://www.w3.org/2000/svg\" height=\"24px\" viewBox=\"0 -960 960 960\">\n",
              "    <path d=\"M120-120v-720h720v720H120Zm60-500h600v-160H180v160Zm220 220h160v-160H400v160Zm0 220h160v-160H400v160ZM180-400h160v-160H180v160Zm440 0h160v-160H620v160ZM180-180h160v-160H180v160Zm440 0h160v-160H620v160Z\"/>\n",
              "  </svg>\n",
              "    </button>\n",
              "\n",
              "  <style>\n",
              "    .colab-df-container {\n",
              "      display:flex;\n",
              "      gap: 12px;\n",
              "    }\n",
              "\n",
              "    .colab-df-convert {\n",
              "      background-color: #E8F0FE;\n",
              "      border: none;\n",
              "      border-radius: 50%;\n",
              "      cursor: pointer;\n",
              "      display: none;\n",
              "      fill: #1967D2;\n",
              "      height: 32px;\n",
              "      padding: 0 0 0 0;\n",
              "      width: 32px;\n",
              "    }\n",
              "\n",
              "    .colab-df-convert:hover {\n",
              "      background-color: #E2EBFA;\n",
              "      box-shadow: 0px 1px 2px rgba(60, 64, 67, 0.3), 0px 1px 3px 1px rgba(60, 64, 67, 0.15);\n",
              "      fill: #174EA6;\n",
              "    }\n",
              "\n",
              "    .colab-df-buttons div {\n",
              "      margin-bottom: 4px;\n",
              "    }\n",
              "\n",
              "    [theme=dark] .colab-df-convert {\n",
              "      background-color: #3B4455;\n",
              "      fill: #D2E3FC;\n",
              "    }\n",
              "\n",
              "    [theme=dark] .colab-df-convert:hover {\n",
              "      background-color: #434B5C;\n",
              "      box-shadow: 0px 1px 3px 1px rgba(0, 0, 0, 0.15);\n",
              "      filter: drop-shadow(0px 1px 2px rgba(0, 0, 0, 0.3));\n",
              "      fill: #FFFFFF;\n",
              "    }\n",
              "  </style>\n",
              "\n",
              "    <script>\n",
              "      const buttonEl =\n",
              "        document.querySelector('#df-2fca1867-1552-4ca9-82c2-f81d9231d616 button.colab-df-convert');\n",
              "      buttonEl.style.display =\n",
              "        google.colab.kernel.accessAllowed ? 'block' : 'none';\n",
              "\n",
              "      async function convertToInteractive(key) {\n",
              "        const element = document.querySelector('#df-2fca1867-1552-4ca9-82c2-f81d9231d616');\n",
              "        const dataTable =\n",
              "          await google.colab.kernel.invokeFunction('convertToInteractive',\n",
              "                                                    [key], {});\n",
              "        if (!dataTable) return;\n",
              "\n",
              "        const docLinkHtml = 'Like what you see? Visit the ' +\n",
              "          '<a target=\"_blank\" href=https://colab.research.google.com/notebooks/data_table.ipynb>data table notebook</a>'\n",
              "          + ' to learn more about interactive tables.';\n",
              "        element.innerHTML = '';\n",
              "        dataTable['output_type'] = 'display_data';\n",
              "        await google.colab.output.renderOutput(dataTable, element);\n",
              "        const docLink = document.createElement('div');\n",
              "        docLink.innerHTML = docLinkHtml;\n",
              "        element.appendChild(docLink);\n",
              "      }\n",
              "    </script>\n",
              "  </div>\n",
              "\n",
              "\n",
              "<div id=\"df-bf8bffb8-d4dd-4fbb-bd10-5f0350a82f14\">\n",
              "  <button class=\"colab-df-quickchart\" onclick=\"quickchart('df-bf8bffb8-d4dd-4fbb-bd10-5f0350a82f14')\"\n",
              "            title=\"Suggest charts\"\n",
              "            style=\"display:none;\">\n",
              "\n",
              "<svg xmlns=\"http://www.w3.org/2000/svg\" height=\"24px\"viewBox=\"0 0 24 24\"\n",
              "     width=\"24px\">\n",
              "    <g>\n",
              "        <path d=\"M19 3H5c-1.1 0-2 .9-2 2v14c0 1.1.9 2 2 2h14c1.1 0 2-.9 2-2V5c0-1.1-.9-2-2-2zM9 17H7v-7h2v7zm4 0h-2V7h2v10zm4 0h-2v-4h2v4z\"/>\n",
              "    </g>\n",
              "</svg>\n",
              "  </button>\n",
              "\n",
              "<style>\n",
              "  .colab-df-quickchart {\n",
              "      --bg-color: #E8F0FE;\n",
              "      --fill-color: #1967D2;\n",
              "      --hover-bg-color: #E2EBFA;\n",
              "      --hover-fill-color: #174EA6;\n",
              "      --disabled-fill-color: #AAA;\n",
              "      --disabled-bg-color: #DDD;\n",
              "  }\n",
              "\n",
              "  [theme=dark] .colab-df-quickchart {\n",
              "      --bg-color: #3B4455;\n",
              "      --fill-color: #D2E3FC;\n",
              "      --hover-bg-color: #434B5C;\n",
              "      --hover-fill-color: #FFFFFF;\n",
              "      --disabled-bg-color: #3B4455;\n",
              "      --disabled-fill-color: #666;\n",
              "  }\n",
              "\n",
              "  .colab-df-quickchart {\n",
              "    background-color: var(--bg-color);\n",
              "    border: none;\n",
              "    border-radius: 50%;\n",
              "    cursor: pointer;\n",
              "    display: none;\n",
              "    fill: var(--fill-color);\n",
              "    height: 32px;\n",
              "    padding: 0;\n",
              "    width: 32px;\n",
              "  }\n",
              "\n",
              "  .colab-df-quickchart:hover {\n",
              "    background-color: var(--hover-bg-color);\n",
              "    box-shadow: 0 1px 2px rgba(60, 64, 67, 0.3), 0 1px 3px 1px rgba(60, 64, 67, 0.15);\n",
              "    fill: var(--button-hover-fill-color);\n",
              "  }\n",
              "\n",
              "  .colab-df-quickchart-complete:disabled,\n",
              "  .colab-df-quickchart-complete:disabled:hover {\n",
              "    background-color: var(--disabled-bg-color);\n",
              "    fill: var(--disabled-fill-color);\n",
              "    box-shadow: none;\n",
              "  }\n",
              "\n",
              "  .colab-df-spinner {\n",
              "    border: 2px solid var(--fill-color);\n",
              "    border-color: transparent;\n",
              "    border-bottom-color: var(--fill-color);\n",
              "    animation:\n",
              "      spin 1s steps(1) infinite;\n",
              "  }\n",
              "\n",
              "  @keyframes spin {\n",
              "    0% {\n",
              "      border-color: transparent;\n",
              "      border-bottom-color: var(--fill-color);\n",
              "      border-left-color: var(--fill-color);\n",
              "    }\n",
              "    20% {\n",
              "      border-color: transparent;\n",
              "      border-left-color: var(--fill-color);\n",
              "      border-top-color: var(--fill-color);\n",
              "    }\n",
              "    30% {\n",
              "      border-color: transparent;\n",
              "      border-left-color: var(--fill-color);\n",
              "      border-top-color: var(--fill-color);\n",
              "      border-right-color: var(--fill-color);\n",
              "    }\n",
              "    40% {\n",
              "      border-color: transparent;\n",
              "      border-right-color: var(--fill-color);\n",
              "      border-top-color: var(--fill-color);\n",
              "    }\n",
              "    60% {\n",
              "      border-color: transparent;\n",
              "      border-right-color: var(--fill-color);\n",
              "    }\n",
              "    80% {\n",
              "      border-color: transparent;\n",
              "      border-right-color: var(--fill-color);\n",
              "      border-bottom-color: var(--fill-color);\n",
              "    }\n",
              "    90% {\n",
              "      border-color: transparent;\n",
              "      border-bottom-color: var(--fill-color);\n",
              "    }\n",
              "  }\n",
              "</style>\n",
              "\n",
              "  <script>\n",
              "    async function quickchart(key) {\n",
              "      const quickchartButtonEl =\n",
              "        document.querySelector('#' + key + ' button');\n",
              "      quickchartButtonEl.disabled = true;  // To prevent multiple clicks.\n",
              "      quickchartButtonEl.classList.add('colab-df-spinner');\n",
              "      try {\n",
              "        const charts = await google.colab.kernel.invokeFunction(\n",
              "            'suggestCharts', [key], {});\n",
              "      } catch (error) {\n",
              "        console.error('Error during call to suggestCharts:', error);\n",
              "      }\n",
              "      quickchartButtonEl.classList.remove('colab-df-spinner');\n",
              "      quickchartButtonEl.classList.add('colab-df-quickchart-complete');\n",
              "    }\n",
              "    (() => {\n",
              "      let quickchartButtonEl =\n",
              "        document.querySelector('#df-bf8bffb8-d4dd-4fbb-bd10-5f0350a82f14 button');\n",
              "      quickchartButtonEl.style.display =\n",
              "        google.colab.kernel.accessAllowed ? 'block' : 'none';\n",
              "    })();\n",
              "  </script>\n",
              "</div>\n",
              "\n",
              "    </div>\n",
              "  </div>\n"
            ],
            "application/vnd.google.colaboratory.intrinsic+json": {
              "type": "dataframe",
              "variable_name": "dataset",
              "summary": "{\n  \"name\": \"dataset\",\n  \"rows\": 1099,\n  \"fields\": [\n    {\n      \"column\": \"SEX\",\n      \"properties\": {\n        \"dtype\": \"category\",\n        \"num_unique_values\": 2,\n        \"samples\": [\n          \"female\",\n          \"male\"\n        ],\n        \"semantic_type\": \"\",\n        \"description\": \"\"\n      }\n    },\n    {\n      \"column\": \" AGES\",\n      \"properties\": {\n        \"dtype\": \"number\",\n        \"std\": 2.011756532696935,\n        \"min\": 17.0,\n        \"max\": 26.0,\n        \"num_unique_values\": 10,\n        \"samples\": [\n          25.0,\n          21.0\n        ],\n        \"semantic_type\": \"\",\n        \"description\": \"\"\n      }\n    },\n    {\n      \"column\": \"ADMISSION MODE\",\n      \"properties\": {\n        \"dtype\": \"category\",\n        \"num_unique_values\": 3,\n        \"samples\": [\n          \"BITSAT\",\n          \"DASA\"\n        ],\n        \"semantic_type\": \"\",\n        \"description\": \"\"\n      }\n    },\n    {\n      \"column\": \"CGPA - 1\",\n      \"properties\": {\n        \"dtype\": \"number\",\n        \"std\": 1.734915885354033,\n        \"min\": 3.0,\n        \"max\": 11.0,\n        \"num_unique_values\": 504,\n        \"samples\": [\n          9.64,\n          7.88\n        ],\n        \"semantic_type\": \"\",\n        \"description\": \"\"\n      }\n    },\n    {\n      \"column\": \"CGPA-2\",\n      \"properties\": {\n        \"dtype\": \"number\",\n        \"std\": 2.3050951794393852,\n        \"min\": 3.0,\n        \"max\": 10.0,\n        \"num_unique_values\": 8,\n        \"samples\": [\n          9.0,\n          4.0\n        ],\n        \"semantic_type\": \"\",\n        \"description\": \"\"\n      }\n    },\n    {\n      \"column\": \" CLUB / DEPARTMENT\",\n      \"properties\": {\n        \"dtype\": \"category\",\n        \"num_unique_values\": 17,\n        \"samples\": [\n          \"Mountaineering\",\n          \"Gaming Club\"\n        ],\n        \"semantic_type\": \"\",\n        \"description\": \"\"\n      }\n    },\n    {\n      \"column\": \"BOARD STUDIED\",\n      \"properties\": {\n        \"dtype\": \"category\",\n        \"num_unique_values\": 4,\n        \"samples\": [\n          \"ICSE\",\n          \"Invalid\"\n        ],\n        \"semantic_type\": \"\",\n        \"description\": \"\"\n      }\n    },\n    {\n      \"column\": \"DAYS SINCE LAST SHOWER\",\n      \"properties\": {\n        \"dtype\": \"number\",\n        \"std\": 3,\n        \"min\": 0,\n        \"max\": 15,\n        \"num_unique_values\": 16,\n        \"samples\": [\n          12,\n          1\n        ],\n        \"semantic_type\": \"\",\n        \"description\": \"\"\n      }\n    },\n    {\n      \"column\": \"BIRTHDAY\",\n      \"properties\": {\n        \"dtype\": \"object\",\n        \"num_unique_values\": 840,\n        \"samples\": [\n          \"2/19/2002\",\n          \"1/23/2004\"\n        ],\n        \"semantic_type\": \"\",\n        \"description\": \"\"\n      }\n    },\n    {\n      \"column\": \"TREATS GIVEN\",\n      \"properties\": {\n        \"dtype\": \"number\",\n        \"std\": 1,\n        \"min\": 0,\n        \"max\": 4,\n        \"num_unique_values\": 5,\n        \"samples\": [\n          1,\n          0\n        ],\n        \"semantic_type\": \"\",\n        \"description\": \"\"\n      }\n    },\n    {\n      \"column\": \" HAS A S/O ?\",\n      \"properties\": {\n        \"dtype\": \"category\",\n        \"num_unique_values\": 3,\n        \"samples\": [\n          \"YES\",\n          \"NO\"\n        ],\n        \"semantic_type\": \"\",\n        \"description\": \"\"\n      }\n    },\n    {\n      \"column\": \"ATTENDS LECTURES\",\n      \"properties\": {\n        \"dtype\": \"category\",\n        \"num_unique_values\": 2,\n        \"samples\": [\n          \"YES\",\n          \"NO\"\n        ],\n        \"semantic_type\": \"\",\n        \"description\": \"\"\n      }\n    },\n    {\n      \"column\": \"CHARACTER\",\n      \"properties\": {\n        \"dtype\": \"category\",\n        \"num_unique_values\": 2,\n        \"samples\": [\n          \"GHOT\",\n          \"LITE\"\n        ],\n        \"semantic_type\": \"\",\n        \"description\": \"\"\n      }\n    },\n    {\n      \"column\": \"PIZZERIA EXPENDITURE (annual)\",\n      \"properties\": {\n        \"dtype\": \"number\",\n        \"std\": 1338111,\n        \"min\": 106,\n        \"max\": 43170987,\n        \"num_unique_values\": 1077,\n        \"samples\": [\n          3785,\n          18962\n        ],\n        \"semantic_type\": \"\",\n        \"description\": \"\"\n      }\n    },\n    {\n      \"column\": \"GRAMS / MONTH\",\n      \"properties\": {\n        \"dtype\": \"number\",\n        \"std\": 3.5860744790330057,\n        \"min\": 0.15,\n        \"max\": 11.0,\n        \"num_unique_values\": 93,\n        \"samples\": [\n          8.4,\n          1.8\n        ],\n        \"semantic_type\": \"\",\n        \"description\": \"\"\n      }\n    },\n    {\n      \"column\": \"GPL\",\n      \"properties\": {\n        \"dtype\": \"category\",\n        \"num_unique_values\": 2,\n        \"samples\": [\n          \"YES\",\n          \"NO\"\n        ],\n        \"semantic_type\": \"\",\n        \"description\": \"\"\n      }\n    }\n  ]\n}"
            }
          },
          "metadata": {},
          "execution_count": 124
        }
      ]
    },
    {
      "cell_type": "code",
      "source": [
        "#fixing the casing issues in club/dept. column\n",
        "def replace_value(value):\n",
        "    if value == 's':\n",
        "        return 'sutt'\n",
        "    elif value == 'd' or value == 'v':\n",
        "        return 'dvm'\n",
        "    elif value == 'g':\n",
        "        return 'gaming club'\n",
        "    elif value == 'm':\n",
        "        return 'mountaineering club'\n",
        "    else:\n",
        "        return value\n",
        "\n",
        "\n",
        "dataset[' CLUB / DEPARTMENT'] = dataset[' CLUB / DEPARTMENT'].str.lower().str[0].apply(replace_value)"
      ],
      "metadata": {
        "id": "9P-UMjQIXa9q"
      },
      "execution_count": 125,
      "outputs": []
    },
    {
      "cell_type": "code",
      "source": [
        "X = dataset.drop(['BIRTHDAY',' HAS A S/O ?','PIZZERIA EXPENDITURE (annual)', 'GPL'], axis=1)\n",
        "#y --> dependent variable\n",
        "y = dataset['GPL']"
      ],
      "metadata": {
        "id": "JRbL6LTxHyCd"
      },
      "execution_count": 126,
      "outputs": []
    },
    {
      "cell_type": "code",
      "source": [
        "#encoding the categorical data using one hot encoding\n",
        "#independent variable\n",
        "from sklearn.compose import ColumnTransformer\n",
        "from sklearn.preprocessing import OneHotEncoder\n",
        "\n",
        "dataset[' CLUB / DEPARTMENT'].replace('', 'NA', inplace=True)\n",
        "\n",
        "ct = ColumnTransformer(transformers=[('encoder', OneHotEncoder(), ['SEX', 'ADMISSION MODE', ' CLUB / DEPARTMENT', 'BOARD STUDIED', 'ATTENDS LECTURES','CHARACTER'])], remainder='passthrough')\n",
        "X = np.array(ct.fit_transform(X))"
      ],
      "metadata": {
        "id": "becQojbFJXDT"
      },
      "execution_count": 127,
      "outputs": []
    },
    {
      "cell_type": "code",
      "source": [
        "#taking care of missing values\n",
        "#this code replaces the missing value with the mean of that particular column\n",
        "\n",
        "columns_to_impute = [1,3,4,7,8,10,11]\n",
        "X[:, columns_to_impute] = X[:, columns_to_impute].astype(float)\n",
        "from sklearn.impute import SimpleImputer\n",
        "imputer = SimpleImputer(missing_values=np.NaN, strategy='mean')\n",
        "imputer.fit(X[:, columns_to_impute])\n",
        "X[:, columns_to_impute] = imputer.transform(X[:, columns_to_impute])"
      ],
      "metadata": {
        "id": "SDjKdBg9Jfr_"
      },
      "execution_count": 128,
      "outputs": []
    },
    {
      "cell_type": "code",
      "source": [
        "#encoding dependent variable\n",
        "from sklearn.preprocessing import LabelEncoder\n",
        "le = LabelEncoder()\n",
        "y = le.fit_transform(y)"
      ],
      "metadata": {
        "id": "aYe2fkaqJkx-"
      },
      "execution_count": 129,
      "outputs": []
    },
    {
      "cell_type": "code",
      "source": [
        "#splitting the dataset into training set and test set\n",
        "from sklearn.model_selection import train_test_split\n",
        "X_train, X_test, y_train, y_test = train_test_split(X, y, test_size = 0.2, random_state = 1)"
      ],
      "metadata": {
        "id": "wUuvSXt9Jrsf"
      },
      "execution_count": 130,
      "outputs": []
    },
    {
      "cell_type": "code",
      "source": [
        "from sklearn.preprocessing import MinMaxScaler\n",
        "\n",
        "columns_to_norm = [1,3,4,7,8,10,11]\n",
        "scaler = MinMaxScaler()\n",
        "X_train[:, columns_to_norm] = scaler.fit_transform(X_train[:, columns_to_norm])\n",
        "X_test[:, columns_to_norm] = scaler.transform(X_test[:, columns_to_norm])\n",
        "X_train = X_train.astype(np.float32)\n",
        "X_test = X_test.astype(np.float32)"
      ],
      "metadata": {
        "id": "2pSqow7dKqE6"
      },
      "execution_count": 131,
      "outputs": []
    },
    {
      "cell_type": "code",
      "source": [
        "print(y_train)"
      ],
      "metadata": {
        "colab": {
          "base_uri": "https://localhost:8080/"
        },
        "id": "-h_-fftmV_tj",
        "outputId": "c9352bd6-fe3f-4569-88f4-4e15787de444"
      },
      "execution_count": 132,
      "outputs": [
        {
          "output_type": "stream",
          "name": "stdout",
          "text": [
            "[0 0 1 1 1 0 0 0 0 0 1 0 1 0 0 0 1 0 1 1 1 1 0 0 0 0 1 0 0 0 0 0 0 1 0 0 0\n",
            " 1 0 0 1 1 0 1 1 0 1 0 1 0 0 0 0 0 0 1 1 1 0 0 1 1 0 0 0 0 0 0 0 1 0 0 0 0\n",
            " 1 1 0 0 1 0 0 0 0 1 0 0 0 1 0 0 0 0 1 0 1 1 0 0 0 1 0 1 0 0 0 0 1 0 1 0 0\n",
            " 1 0 1 0 1 1 1 1 0 0 1 0 0 1 1 1 1 1 1 1 0 0 0 1 0 0 1 0 0 0 0 0 1 0 1 0 0\n",
            " 0 1 0 0 0 1 0 0 0 0 1 1 1 0 0 0 0 0 0 0 1 1 1 0 0 0 1 0 1 1 0 1 0 0 1 0 1\n",
            " 0 0 1 0 1 1 1 0 0 0 1 1 0 1 0 0 0 0 1 1 0 1 0 0 0 0 0 1 1 0 1 0 1 1 0 1 0\n",
            " 1 0 0 0 0 0 1 0 0 0 0 0 1 0 0 0 1 0 0 1 0 0 1 0 0 1 0 1 1 0 1 0 0 0 0 1 0\n",
            " 1 1 1 0 0 0 1 0 1 0 0 0 0 1 1 0 1 0 1 0 1 1 1 0 1 0 1 0 0 1 0 1 0 0 0 1 1\n",
            " 0 1 1 0 0 0 0 1 1 0 0 1 1 0 0 1 0 1 1 1 1 1 0 1 1 0 1 0 0 0 1 0 0 1 1 1 1\n",
            " 0 0 0 1 0 1 1 1 0 1 1 1 1 0 0 0 0 0 1 1 1 1 0 0 1 0 0 1 0 0 1 1 0 0 1 1 0\n",
            " 0 0 0 1 0 1 0 0 1 1 0 0 0 1 1 0 0 0 1 0 0 0 1 0 0 0 1 0 1 0 0 0 0 1 0 0 0\n",
            " 0 1 1 1 0 0 0 1 0 1 0 0 0 0 0 1 0 0 1 0 0 1 0 1 1 1 0 1 0 0 1 0 0 0 1 1 0\n",
            " 1 0 0 0 0 1 0 0 1 0 0 1 0 0 1 0 1 0 0 1 0 1 1 0 1 1 0 0 0 1 0 0 1 0 1 1 0\n",
            " 1 0 0 0 0 0 0 0 1 0 0 0 0 0 0 0 1 0 1 1 0 0 0 0 1 1 0 0 0 0 0 1 1 1 0 1 1\n",
            " 1 0 1 1 1 0 0 0 1 1 0 1 1 0 0 0 1 1 1 0 0 1 0 1 1 1 0 1 0 1 1 0 0 1 0 1 1\n",
            " 1 0 0 1 0 1 1 0 1 1 1 0 1 1 1 1 1 0 0 0 0 0 0 0 0 0 0 0 0 1 0 0 0 1 1 0 0\n",
            " 1 1 1 0 0 1 0 0 1 1 0 1 0 1 1 0 0 0 0 1 1 0 0 0 0 0 0 0 0 0 0 0 1 0 0 0 1\n",
            " 0 1 1 0 0 0 0 1 0 0 0 0 1 1 0 0 0 1 1 1 1 0 0 1 0 0 1 0 0 1 0 0 1 0 0 1 0\n",
            " 0 0 0 1 1 1 0 0 1 0 0 0 0 0 0 1 1 0 0 0 0 1 1 1 0 1 1 1 0 1 0 0 1 0 0 1 1\n",
            " 0 0 0 1 1 1 0 1 1 0 1 0 0 0 0 1 0 1 0 0 0 0 1 1 0 0 1 1 1 0 0 0 0 0 0 0 1\n",
            " 0 0 0 1 1 0 1 0 0 0 0 0 0 0 0 1 0 1 0 1 1 1 1 0 0 0 0 0 1 1 0 0 1 0 0 0 0\n",
            " 0 1 0 0 1 0 1 1 0 0 0 0 1 0 0 0 0 1 0 1 0 0 0 0 0 1 0 1 1 0 1 0 0 0 1 0 0\n",
            " 1 1 0 1 0 1 0 0 0 0 0 1 0 0 0 0 0 0 0 0 1 0 1 0 1 1 0 0 0 0 0 0 0 1 0 0 0\n",
            " 0 0 0 1 0 0 0 0 0 0 0 0 1 1 0 0 0 0 0 0 1 1 1 0 1 0 0 1]\n"
          ]
        }
      ]
    },
    {
      "cell_type": "markdown",
      "source": [
        "converting X and y to tensors"
      ],
      "metadata": {
        "id": "d9Mk6fZIRO0W"
      }
    },
    {
      "cell_type": "code",
      "source": [
        "X_train = torch.FloatTensor(X_train)\n",
        "X_test = torch.FloatTensor(X_test)"
      ],
      "metadata": {
        "id": "jUzsnRXwKyF7"
      },
      "execution_count": 133,
      "outputs": []
    },
    {
      "cell_type": "code",
      "source": [
        "y_train = torch.FloatTensor(y_train)\n",
        "y_test = torch.FloatTensor(y_test)"
      ],
      "metadata": {
        "id": "jSCftBMlQZJK"
      },
      "execution_count": 134,
      "outputs": []
    },
    {
      "cell_type": "code",
      "source": [
        "class Model(nn.Module):\n",
        "    def __init__(self, in_features, h1=32, h2=16, h3=8, h4=4, out_features=1):\n",
        "        super().__init__()\n",
        "        self.fc1 = nn.Linear(in_features, h1)\n",
        "        self.fc2 = nn.Linear(h1, h2)\n",
        "        self.fc3 = nn.Linear(h2, h3)\n",
        "        self.out = nn.Linear(h3, out_features)\n",
        "        self.sigmoid = torch.nn.Sigmoid()\n",
        "\n",
        "    def forward(self, x):\n",
        "        x = F.relu(self.fc1(x))\n",
        "        x = F.relu(self.fc2(x))\n",
        "        x = F.relu(self.fc3(x))\n",
        "        x = self.out(x)\n",
        "        x = self.sigmoid(x)\n",
        "        return x"
      ],
      "metadata": {
        "id": "Jbt49-yGc9s-"
      },
      "execution_count": 135,
      "outputs": []
    },
    {
      "cell_type": "code",
      "source": [
        "#pick a manual seed\n",
        "torch.manual_seed(70)\n",
        "in_features=X_train.shape[1]\n",
        "model = Model(in_features)"
      ],
      "metadata": {
        "id": "kqkNio_9dQ7G"
      },
      "execution_count": 136,
      "outputs": []
    },
    {
      "cell_type": "code",
      "source": [
        "#criterion of model to measure the error\n",
        "criterion = nn.MSELoss()\n",
        "#choosing adam optimizer and learning rate\n",
        "optimizer = torch.optim.Adam(model.parameters(),lr= 0.001,eps=1e-5)"
      ],
      "metadata": {
        "id": "ZWdxv8MHQv44"
      },
      "execution_count": 137,
      "outputs": []
    },
    {
      "cell_type": "code",
      "source": [
        "epochs = 10000\n",
        "losses = []\n",
        "for i in range(epochs):\n",
        "  y_pred = model.forward(torch.nan_to_num(X_train)).squeeze(1)\n",
        "  # print(y_pred)\n",
        "  #measure the loss/error\n",
        "  loss = criterion(y_train,y_pred)\n",
        "  losses.append(loss.detach().numpy())\n",
        "\n",
        "  #print every 10 epoch\n",
        "  if i % 1000 == 0:\n",
        "    print(f'Epoch:{i} and loss:{loss}')\n",
        "\n",
        "  optimizer.zero_grad()\n",
        "  loss.backward()\n",
        "  optimizer.step()"
      ],
      "metadata": {
        "colab": {
          "base_uri": "https://localhost:8080/"
        },
        "id": "6uwOuCXxRybR",
        "outputId": "840ebfbf-d64e-48f8-b801-35f7f9f56290"
      },
      "execution_count": 138,
      "outputs": [
        {
          "output_type": "stream",
          "name": "stdout",
          "text": [
            "Epoch:0 and loss:0.24598829448223114\n",
            "Epoch:1000 and loss:0.008790264837443829\n",
            "Epoch:2000 and loss:0.007120231632143259\n",
            "Epoch:3000 and loss:0.0068906452506780624\n",
            "Epoch:4000 and loss:0.006846809294074774\n",
            "Epoch:5000 and loss:0.006834637373685837\n",
            "Epoch:6000 and loss:0.006830047816038132\n",
            "Epoch:7000 and loss:0.006828045938163996\n",
            "Epoch:8000 and loss:0.006827089469879866\n",
            "Epoch:9000 and loss:0.0068266005255281925\n"
          ]
        }
      ]
    },
    {
      "cell_type": "code",
      "source": [
        "plt.plot(range(epochs),losses)\n",
        "plt.ylabel(\"loss\")\n",
        "plt.xlabel(\"epochs\")"
      ],
      "metadata": {
        "colab": {
          "base_uri": "https://localhost:8080/",
          "height": 467
        },
        "id": "AUPUqsTRZAWE",
        "outputId": "8a833ddf-3225-4ad0-dd90-75ce5cda0146"
      },
      "execution_count": 139,
      "outputs": [
        {
          "output_type": "execute_result",
          "data": {
            "text/plain": [
              "Text(0.5, 0, 'epochs')"
            ]
          },
          "metadata": {},
          "execution_count": 139
        },
        {
          "output_type": "display_data",
          "data": {
            "text/plain": [
              "<Figure size 640x480 with 1 Axes>"
            ],
            "image/png": "[encoded data removed]"
          },
          "metadata": {}
        }
      ]
    },
    {
      "cell_type": "code",
      "source": [
        "with torch.no_grad():\n",
        "  y_eval = model.forward(torch.nan_to_num(X_test)).squeeze(1)\n",
        "  loss = criterion(y_eval,y_test)"
      ],
      "metadata": {
        "id": "Bv5j2L0kaVyI"
      },
      "execution_count": 140,
      "outputs": []
    },
    {
      "cell_type": "code",
      "source": [
        "loss"
      ],
      "metadata": {
        "colab": {
          "base_uri": "https://localhost:8080/"
        },
        "id": "LfdcwtGfbqz6",
        "outputId": "3ae17fab-321f-4aaf-e758-fc4ac5f9b1e4"
      },
      "execution_count": 141,
      "outputs": [
        {
          "output_type": "execute_result",
          "data": {
            "text/plain": [
              "tensor(0.0499)"
            ]
          },
          "metadata": {},
          "execution_count": 141
        }
      ]
    },
    {
      "cell_type": "code",
      "source": [
        "import numpy as np\n",
        "import torch\n",
        "from sklearn.metrics import confusion_matrix, accuracy_score\n",
        "\n",
        "correct = 0\n",
        "total = 0\n",
        "predictions = []\n",
        "\n",
        "with torch.no_grad():\n",
        "    for i, data in enumerate(torch.nan_to_num(X_test)):\n",
        "        y_pred = model.forward(data)\n",
        "        y_pred_roundoff = np.where(np.array(y_pred) > 0.5, 1, 0)\n",
        "        predictions.append(y_pred_roundoff)\n",
        "\n",
        "predictions = np.concatenate(predictions)\n",
        "\n",
        "cm = confusion_matrix(y_test, predictions)\n",
        "print(cm)\n",
        "\n",
        "accuracy = accuracy_score(y_test, predictions)\n",
        "print(f'Accuracy {accuracy}')\n"
      ],
      "metadata": {
        "colab": {
          "base_uri": "https://localhost:8080/"
        },
        "id": "dZgJ139Gbxvn",
        "outputId": "d11e2a7f-bf01-467c-f7b8-cb6ffaa7712c"
      },
      "execution_count": 142,
      "outputs": [
        {
          "output_type": "stream",
          "name": "stdout",
          "text": [
            "[[124   5]\n",
            " [  6  85]]\n",
            "Accuracy 0.95\n"
          ]
        }
      ]
    },
    {
      "cell_type": "code",
      "source": [
        "#finally accuracy 95% , i changed it to MSE loss from Cross entropy loss"
      ],
      "metadata": {
        "id": "Zqojt8fTbFam"
      },
      "execution_count": null,
      "outputs": []
    },
    {
      "cell_type": "code",
      "source": [
        "seniors = pd.read_csv('seniors.csv')"
      ],
      "metadata": {
        "id": "FN2-Wi4gkg6U"
      },
      "execution_count": 143,
      "outputs": []
    },
    {
      "cell_type": "code",
      "source": [
        "seniors.head()"
      ],
      "metadata": {
        "id": "42hyEf1JlgpO",
        "outputId": "f85e9d37-f782-4739-e9d0-ad4328ff26f7",
        "colab": {
          "base_uri": "https://localhost:8080/",
          "height": 296
        }
      },
      "execution_count": 144,
      "outputs": [
        {
          "output_type": "execute_result",
          "data": {
            "text/plain": [
              "          NAME     SEX   AGES ADMISSION MODE  CGPA - 1  CGPA-2  \\\n",
              "0        Vaasu  female     18   BOARD TOPPER      3.24       4   \n",
              "1        Rajat    male     19         BITSAT      6.45       6   \n",
              "2        Akhil    male     16         BITSAT      6.23       7   \n",
              "3         Yash    male     17         BITSAT      8.43      10   \n",
              "4  Yashwardhan    male     17         BITSAT      3.76       6   \n",
              "\n",
              "   CLUB / DEPARTMENT BOARD STUDIED  DAYS SINCE LAST SHOWER   BIRTHDAY  \\\n",
              "0               SUTT          CBSE                      14  9/15/2006   \n",
              "1               SUTT          CBSE                       8  7/23/2005   \n",
              "2               SUTT          CBSE                      10  4/10/2007   \n",
              "3               SUTT          CBSE                       4  7/18/2007   \n",
              "4               SUTT          CBSE                      13  7/13/2007   \n",
              "\n",
              "   TREATS GIVEN  HAS A S/O ? ATTENDS LECTURES CHARACTER  \\\n",
              "0             0           NO              YES      GHOT   \n",
              "1             1          YES              YES      LITE   \n",
              "2             3           NO               NO      LITE   \n",
              "3             4           NO              YES      LITE   \n",
              "4             3          YES              YES      LITE   \n",
              "\n",
              "   PIZZERIA EXPENDITURE (annual)  GRAMS / MONTH  \n",
              "0                          20898            2.5  \n",
              "1                          11695            5.7  \n",
              "2                          16116           22.0  \n",
              "3                          13938            0.8  \n",
              "4                          18635            5.4  "
            ],
            "text/html": [
              "\n",
              "  <div id=\"df-72d02adc-e3d2-4745-8363-829a120ef572\" class=\"colab-df-container\">\n",
              "    <div>\n",
              "<style scoped>\n",
              "    .dataframe tbody tr th:only-of-type {\n",
              "        vertical-align: middle;\n",
              "    }\n",
              "\n",
              "    .dataframe tbody tr th {\n",
              "        vertical-align: top;\n",
              "    }\n",
              "\n",
              "    .dataframe thead th {\n",
              "        text-align: right;\n",
              "    }\n",
              "</style>\n",
              "<table border=\"1\" class=\"dataframe\">\n",
              "  <thead>\n",
              "    <tr style=\"text-align: right;\">\n",
              "      <th></th>\n",
              "      <th>NAME</th>\n",
              "      <th>SEX</th>\n",
              "      <th>AGES</th>\n",
              "      <th>ADMISSION MODE</th>\n",
              "      <th>CGPA - 1</th>\n",
              "      <th>CGPA-2</th>\n",
              "      <th>CLUB / DEPARTMENT</th>\n",
              "      <th>BOARD STUDIED</th>\n",
              "      <th>DAYS SINCE LAST SHOWER</th>\n",
              "      <th>BIRTHDAY</th>\n",
              "      <th>TREATS GIVEN</th>\n",
              "      <th>HAS A S/O ?</th>\n",
              "      <th>ATTENDS LECTURES</th>\n",
              "      <th>CHARACTER</th>\n",
              "      <th>PIZZERIA EXPENDITURE (annual)</th>\n",
              "      <th>GRAMS / MONTH</th>\n",
              "    </tr>\n",
              "  </thead>\n",
              "  <tbody>\n",
              "    <tr>\n",
              "      <th>0</th>\n",
              "      <td>Vaasu</td>\n",
              "      <td>female</td>\n",
              "      <td>18</td>\n",
              "      <td>BOARD TOPPER</td>\n",
              "      <td>3.24</td>\n",
              "      <td>4</td>\n",
              "      <td>SUTT</td>\n",
              "      <td>CBSE</td>\n",
              "      <td>14</td>\n",
              "      <td>9/15/2006</td>\n",
              "      <td>0</td>\n",
              "      <td>NO</td>\n",
              "      <td>YES</td>\n",
              "      <td>GHOT</td>\n",
              "      <td>20898</td>\n",
              "      <td>2.5</td>\n",
              "    </tr>\n",
              "    <tr>\n",
              "      <th>1</th>\n",
              "      <td>Rajat</td>\n",
              "      <td>male</td>\n",
              "      <td>19</td>\n",
              "      <td>BITSAT</td>\n",
              "      <td>6.45</td>\n",
              "      <td>6</td>\n",
              "      <td>SUTT</td>\n",
              "      <td>CBSE</td>\n",
              "      <td>8</td>\n",
              "      <td>7/23/2005</td>\n",
              "      <td>1</td>\n",
              "      <td>YES</td>\n",
              "      <td>YES</td>\n",
              "      <td>LITE</td>\n",
              "      <td>11695</td>\n",
              "      <td>5.7</td>\n",
              "    </tr>\n",
              "    <tr>\n",
              "      <th>2</th>\n",
              "      <td>Akhil</td>\n",
              "      <td>male</td>\n",
              "      <td>16</td>\n",
              "      <td>BITSAT</td>\n",
              "      <td>6.23</td>\n",
              "      <td>7</td>\n",
              "      <td>SUTT</td>\n",
              "      <td>CBSE</td>\n",
              "      <td>10</td>\n",
              "      <td>4/10/2007</td>\n",
              "      <td>3</td>\n",
              "      <td>NO</td>\n",
              "      <td>NO</td>\n",
              "      <td>LITE</td>\n",
              "      <td>16116</td>\n",
              "      <td>22.0</td>\n",
              "    </tr>\n",
              "    <tr>\n",
              "      <th>3</th>\n",
              "      <td>Yash</td>\n",
              "      <td>male</td>\n",
              "      <td>17</td>\n",
              "      <td>BITSAT</td>\n",
              "      <td>8.43</td>\n",
              "      <td>10</td>\n",
              "      <td>SUTT</td>\n",
              "      <td>CBSE</td>\n",
              "      <td>4</td>\n",
              "      <td>7/18/2007</td>\n",
              "      <td>4</td>\n",
              "      <td>NO</td>\n",
              "      <td>YES</td>\n",
              "      <td>LITE</td>\n",
              "      <td>13938</td>\n",
              "      <td>0.8</td>\n",
              "    </tr>\n",
              "    <tr>\n",
              "      <th>4</th>\n",
              "      <td>Yashwardhan</td>\n",
              "      <td>male</td>\n",
              "      <td>17</td>\n",
              "      <td>BITSAT</td>\n",
              "      <td>3.76</td>\n",
              "      <td>6</td>\n",
              "      <td>SUTT</td>\n",
              "      <td>CBSE</td>\n",
              "      <td>13</td>\n",
              "      <td>7/13/2007</td>\n",
              "      <td>3</td>\n",
              "      <td>YES</td>\n",
              "      <td>YES</td>\n",
              "      <td>LITE</td>\n",
              "      <td>18635</td>\n",
              "      <td>5.4</td>\n",
              "    </tr>\n",
              "  </tbody>\n",
              "</table>\n",
              "</div>\n",
              "    <div class=\"colab-df-buttons\">\n",
              "\n",
              "  <div class=\"colab-df-container\">\n",
              "    <button class=\"colab-df-convert\" onclick=\"convertToInteractive('df-72d02adc-e3d2-4745-8363-829a120ef572')\"\n",
              "            title=\"Convert this dataframe to an interactive table.\"\n",
              "            style=\"display:none;\">\n",
              "\n",
              "  <svg xmlns=\"http://www.w3.org/2000/svg\" height=\"24px\" viewBox=\"0 -960 960 960\">\n",
              "    <path d=\"M120-120v-720h720v720H120Zm60-500h600v-160H180v160Zm220 220h160v-160H400v160Zm0 220h160v-160H400v160ZM180-400h160v-160H180v160Zm440 0h160v-160H620v160ZM180-180h160v-160H180v160Zm440 0h160v-160H620v160Z\"/>\n",
              "  </svg>\n",
              "    </button>\n",
              "\n",
              "  <style>\n",
              "    .colab-df-container {\n",
              "      display:flex;\n",
              "      gap: 12px;\n",
              "    }\n",
              "\n",
              "    .colab-df-convert {\n",
              "      background-color: #E8F0FE;\n",
              "      border: none;\n",
              "      border-radius: 50%;\n",
              "      cursor: pointer;\n",
              "      display: none;\n",
              "      fill: #1967D2;\n",
              "      height: 32px;\n",
              "      padding: 0 0 0 0;\n",
              "      width: 32px;\n",
              "    }\n",
              "\n",
              "    .colab-df-convert:hover {\n",
              "      background-color: #E2EBFA;\n",
              "      box-shadow: 0px 1px 2px rgba(60, 64, 67, 0.3), 0px 1px 3px 1px rgba(60, 64, 67, 0.15);\n",
              "      fill: #174EA6;\n",
              "    }\n",
              "\n",
              "    .colab-df-buttons div {\n",
              "      margin-bottom: 4px;\n",
              "    }\n",
              "\n",
              "    [theme=dark] .colab-df-convert {\n",
              "      background-color: #3B4455;\n",
              "      fill: #D2E3FC;\n",
              "    }\n",
              "\n",
              "    [theme=dark] .colab-df-convert:hover {\n",
              "      background-color: #434B5C;\n",
              "      box-shadow: 0px 1px 3px 1px rgba(0, 0, 0, 0.15);\n",
              "      filter: drop-shadow(0px 1px 2px rgba(0, 0, 0, 0.3));\n",
              "      fill: #FFFFFF;\n",
              "    }\n",
              "  </style>\n",
              "\n",
              "    <script>\n",
              "      const buttonEl =\n",
              "        document.querySelector('#df-72d02adc-e3d2-4745-8363-829a120ef572 button.colab-df-convert');\n",
              "      buttonEl.style.display =\n",
              "        google.colab.kernel.accessAllowed ? 'block' : 'none';\n",
              "\n",
              "      async function convertToInteractive(key) {\n",
              "        const element = document.querySelector('#df-72d02adc-e3d2-4745-8363-829a120ef572');\n",
              "        const dataTable =\n",
              "          await google.colab.kernel.invokeFunction('convertToInteractive',\n",
              "                                                    [key], {});\n",
              "        if (!dataTable) return;\n",
              "\n",
              "        const docLinkHtml = 'Like what you see? Visit the ' +\n",
              "          '<a target=\"_blank\" href=https://colab.research.google.com/notebooks/data_table.ipynb>data table notebook</a>'\n",
              "          + ' to learn more about interactive tables.';\n",
              "        element.innerHTML = '';\n",
              "        dataTable['output_type'] = 'display_data';\n",
              "        await google.colab.output.renderOutput(dataTable, element);\n",
              "        const docLink = document.createElement('div');\n",
              "        docLink.innerHTML = docLinkHtml;\n",
              "        element.appendChild(docLink);\n",
              "      }\n",
              "    </script>\n",
              "  </div>\n",
              "\n",
              "\n",
              "<div id=\"df-79b17ace-ec7a-47d0-9df1-7430c542a75e\">\n",
              "  <button class=\"colab-df-quickchart\" onclick=\"quickchart('df-79b17ace-ec7a-47d0-9df1-7430c542a75e')\"\n",
              "            title=\"Suggest charts\"\n",
              "            style=\"display:none;\">\n",
              "\n",
              "<svg xmlns=\"http://www.w3.org/2000/svg\" height=\"24px\"viewBox=\"0 0 24 24\"\n",
              "     width=\"24px\">\n",
              "    <g>\n",
              "        <path d=\"M19 3H5c-1.1 0-2 .9-2 2v14c0 1.1.9 2 2 2h14c1.1 0 2-.9 2-2V5c0-1.1-.9-2-2-2zM9 17H7v-7h2v7zm4 0h-2V7h2v10zm4 0h-2v-4h2v4z\"/>\n",
              "    </g>\n",
              "</svg>\n",
              "  </button>\n",
              "\n",
              "<style>\n",
              "  .colab-df-quickchart {\n",
              "      --bg-color: #E8F0FE;\n",
              "      --fill-color: #1967D2;\n",
              "      --hover-bg-color: #E2EBFA;\n",
              "      --hover-fill-color: #174EA6;\n",
              "      --disabled-fill-color: #AAA;\n",
              "      --disabled-bg-color: #DDD;\n",
              "  }\n",
              "\n",
              "  [theme=dark] .colab-df-quickchart {\n",
              "      --bg-color: #3B4455;\n",
              "      --fill-color: #D2E3FC;\n",
              "      --hover-bg-color: #434B5C;\n",
              "      --hover-fill-color: #FFFFFF;\n",
              "      --disabled-bg-color: #3B4455;\n",
              "      --disabled-fill-color: #666;\n",
              "  }\n",
              "\n",
              "  .colab-df-quickchart {\n",
              "    background-color: var(--bg-color);\n",
              "    border: none;\n",
              "    border-radius: 50%;\n",
              "    cursor: pointer;\n",
              "    display: none;\n",
              "    fill: var(--fill-color);\n",
              "    height: 32px;\n",
              "    padding: 0;\n",
              "    width: 32px;\n",
              "  }\n",
              "\n",
              "  .colab-df-quickchart:hover {\n",
              "    background-color: var(--hover-bg-color);\n",
              "    box-shadow: 0 1px 2px rgba(60, 64, 67, 0.3), 0 1px 3px 1px rgba(60, 64, 67, 0.15);\n",
              "    fill: var(--button-hover-fill-color);\n",
              "  }\n",
              "\n",
              "  .colab-df-quickchart-complete:disabled,\n",
              "  .colab-df-quickchart-complete:disabled:hover {\n",
              "    background-color: var(--disabled-bg-color);\n",
              "    fill: var(--disabled-fill-color);\n",
              "    box-shadow: none;\n",
              "  }\n",
              "\n",
              "  .colab-df-spinner {\n",
              "    border: 2px solid var(--fill-color);\n",
              "    border-color: transparent;\n",
              "    border-bottom-color: var(--fill-color);\n",
              "    animation:\n",
              "      spin 1s steps(1) infinite;\n",
              "  }\n",
              "\n",
              "  @keyframes spin {\n",
              "    0% {\n",
              "      border-color: transparent;\n",
              "      border-bottom-color: var(--fill-color);\n",
              "      border-left-color: var(--fill-color);\n",
              "    }\n",
              "    20% {\n",
              "      border-color: transparent;\n",
              "      border-left-color: var(--fill-color);\n",
              "      border-top-color: var(--fill-color);\n",
              "    }\n",
              "    30% {\n",
              "      border-color: transparent;\n",
              "      border-left-color: var(--fill-color);\n",
              "      border-top-color: var(--fill-color);\n",
              "      border-right-color: var(--fill-color);\n",
              "    }\n",
              "    40% {\n",
              "      border-color: transparent;\n",
              "      border-right-color: var(--fill-color);\n",
              "      border-top-color: var(--fill-color);\n",
              "    }\n",
              "    60% {\n",
              "      border-color: transparent;\n",
              "      border-right-color: var(--fill-color);\n",
              "    }\n",
              "    80% {\n",
              "      border-color: transparent;\n",
              "      border-right-color: var(--fill-color);\n",
              "      border-bottom-color: var(--fill-color);\n",
              "    }\n",
              "    90% {\n",
              "      border-color: transparent;\n",
              "      border-bottom-color: var(--fill-color);\n",
              "    }\n",
              "  }\n",
              "</style>\n",
              "\n",
              "  <script>\n",
              "    async function quickchart(key) {\n",
              "      const quickchartButtonEl =\n",
              "        document.querySelector('#' + key + ' button');\n",
              "      quickchartButtonEl.disabled = true;  // To prevent multiple clicks.\n",
              "      quickchartButtonEl.classList.add('colab-df-spinner');\n",
              "      try {\n",
              "        const charts = await google.colab.kernel.invokeFunction(\n",
              "            'suggestCharts', [key], {});\n",
              "      } catch (error) {\n",
              "        console.error('Error during call to suggestCharts:', error);\n",
              "      }\n",
              "      quickchartButtonEl.classList.remove('colab-df-spinner');\n",
              "      quickchartButtonEl.classList.add('colab-df-quickchart-complete');\n",
              "    }\n",
              "    (() => {\n",
              "      let quickchartButtonEl =\n",
              "        document.querySelector('#df-79b17ace-ec7a-47d0-9df1-7430c542a75e button');\n",
              "      quickchartButtonEl.style.display =\n",
              "        google.colab.kernel.accessAllowed ? 'block' : 'none';\n",
              "    })();\n",
              "  </script>\n",
              "</div>\n",
              "\n",
              "    </div>\n",
              "  </div>\n"
            ],
            "application/vnd.google.colaboratory.intrinsic+json": {
              "type": "dataframe",
              "variable_name": "seniors",
              "summary": "{\n  \"name\": \"seniors\",\n  \"rows\": 11,\n  \"fields\": [\n    {\n      \"column\": \"NAME\",\n      \"properties\": {\n        \"dtype\": \"string\",\n        \"num_unique_values\": 11,\n        \"samples\": [\n          \"Aaryan\",\n          \"Vaasu\",\n          \"Tanay\"\n        ],\n        \"semantic_type\": \"\",\n        \"description\": \"\"\n      }\n    },\n    {\n      \"column\": \"SEX\",\n      \"properties\": {\n        \"dtype\": \"category\",\n        \"num_unique_values\": 2,\n        \"samples\": [\n          \"male\",\n          \"female\"\n        ],\n        \"semantic_type\": \"\",\n        \"description\": \"\"\n      }\n    },\n    {\n      \"column\": \" AGES\",\n      \"properties\": {\n        \"dtype\": \"number\",\n        \"std\": 1,\n        \"min\": 16,\n        \"max\": 22,\n        \"num_unique_values\": 5,\n        \"samples\": [\n          19,\n          22\n        ],\n        \"semantic_type\": \"\",\n        \"description\": \"\"\n      }\n    },\n    {\n      \"column\": \"ADMISSION MODE\",\n      \"properties\": {\n        \"dtype\": \"category\",\n        \"num_unique_values\": 2,\n        \"samples\": [\n          \"BITSAT\",\n          \"BOARD TOPPER\"\n        ],\n        \"semantic_type\": \"\",\n        \"description\": \"\"\n      }\n    },\n    {\n      \"column\": \"CGPA - 1\",\n      \"properties\": {\n        \"dtype\": \"number\",\n        \"std\": 1.9693972312729229,\n        \"min\": 3.24,\n        \"max\": 9.03,\n        \"num_unique_values\": 11,\n        \"samples\": [\n          8.2,\n          3.24\n        ],\n        \"semantic_type\": \"\",\n        \"description\": \"\"\n      }\n    },\n    {\n      \"column\": \"CGPA-2\",\n      \"properties\": {\n        \"dtype\": \"number\",\n        \"std\": 2,\n        \"min\": 4,\n        \"max\": 10,\n        \"num_unique_values\": 5,\n        \"samples\": [\n          6,\n          9\n        ],\n        \"semantic_type\": \"\",\n        \"description\": \"\"\n      }\n    },\n    {\n      \"column\": \" CLUB / DEPARTMENT\",\n      \"properties\": {\n        \"dtype\": \"category\",\n        \"num_unique_values\": 1,\n        \"samples\": [\n          \"SUTT\"\n        ],\n        \"semantic_type\": \"\",\n        \"description\": \"\"\n      }\n    },\n    {\n      \"column\": \"BOARD STUDIED\",\n      \"properties\": {\n        \"dtype\": \"category\",\n        \"num_unique_values\": 1,\n        \"samples\": [\n          \"CBSE\"\n        ],\n        \"semantic_type\": \"\",\n        \"description\": \"\"\n      }\n    },\n    {\n      \"column\": \"DAYS SINCE LAST SHOWER\",\n      \"properties\": {\n        \"dtype\": \"number\",\n        \"std\": 3,\n        \"min\": 3,\n        \"max\": 14,\n        \"num_unique_values\": 9,\n        \"samples\": [\n          3\n        ],\n        \"semantic_type\": \"\",\n        \"description\": \"\"\n      }\n    },\n    {\n      \"column\": \"BIRTHDAY\",\n      \"properties\": {\n        \"dtype\": \"object\",\n        \"num_unique_values\": 11,\n        \"samples\": [\n          \"8/24/2007\"\n        ],\n        \"semantic_type\": \"\",\n        \"description\": \"\"\n      }\n    },\n    {\n      \"column\": \"TREATS GIVEN\",\n      \"properties\": {\n        \"dtype\": \"number\",\n        \"std\": 1,\n        \"min\": 0,\n        \"max\": 4,\n        \"num_unique_values\": 5,\n        \"samples\": [\n          1\n        ],\n        \"semantic_type\": \"\",\n        \"description\": \"\"\n      }\n    },\n    {\n      \"column\": \" HAS A S/O ?\",\n      \"properties\": {\n        \"dtype\": \"category\",\n        \"num_unique_values\": 3,\n        \"samples\": [\n          \"NO\"\n        ],\n        \"semantic_type\": \"\",\n        \"description\": \"\"\n      }\n    },\n    {\n      \"column\": \"ATTENDS LECTURES\",\n      \"properties\": {\n        \"dtype\": \"category\",\n        \"num_unique_values\": 2,\n        \"samples\": [\n          \"NO\"\n        ],\n        \"semantic_type\": \"\",\n        \"description\": \"\"\n      }\n    },\n    {\n      \"column\": \"CHARACTER\",\n      \"properties\": {\n        \"dtype\": \"category\",\n        \"num_unique_values\": 2,\n        \"samples\": [\n          \"LITE\"\n        ],\n        \"semantic_type\": \"\",\n        \"description\": \"\"\n      }\n    },\n    {\n      \"column\": \"PIZZERIA EXPENDITURE (annual)\",\n      \"properties\": {\n        \"dtype\": \"number\",\n        \"std\": 3501,\n        \"min\": 11381,\n        \"max\": 20898,\n        \"num_unique_values\": 10,\n        \"samples\": [\n          17796\n        ],\n        \"semantic_type\": \"\",\n        \"description\": \"\"\n      }\n    },\n    {\n      \"column\": \"GRAMS / MONTH\",\n      \"properties\": {\n        \"dtype\": \"number\",\n        \"std\": 6.179482178953184,\n        \"min\": 0.6,\n        \"max\": 22.0,\n        \"num_unique_values\": 9,\n        \"samples\": [\n          3.7\n        ],\n        \"semantic_type\": \"\",\n        \"description\": \"\"\n      }\n    }\n  ]\n}"
            }
          },
          "metadata": {},
          "execution_count": 144
        }
      ]
    },
    {
      "cell_type": "code",
      "source": [
        "X_sen = seniors.drop(['BIRTHDAY',' HAS A S/O ?','PIZZERIA EXPENDITURE (annual)','NAME'], axis=1)"
      ],
      "metadata": {
        "id": "1F-R0ayDmHXF"
      },
      "execution_count": 145,
      "outputs": []
    },
    {
      "cell_type": "code",
      "source": [
        "#encoding the categorical data using one hot encoding\n",
        "#independent variable\n",
        "from sklearn.compose import ColumnTransformer\n",
        "from sklearn.preprocessing import OneHotEncoder\n",
        "\n",
        "# dataset[' CLUB / DEPARTMENT'].replace('', 'NA', inplace=True)\n",
        "\n",
        "ct = ColumnTransformer(transformers=[('encoder', OneHotEncoder(), ['SEX', 'ADMISSION MODE', ' CLUB / DEPARTMENT', 'BOARD STUDIED','ATTENDS LECTURES','CHARACTER'])], remainder='passthrough')\n",
        "X_sen = np.array(ct.fit_transform(X_sen))"
      ],
      "metadata": {
        "id": "qmTUpoVLnWUu"
      },
      "execution_count": 146,
      "outputs": []
    },
    {
      "cell_type": "code",
      "source": [
        "from sklearn.preprocessing import MinMaxScaler\n",
        "\n",
        "columns_to_norm = [1,3,4,7,8,10,11]\n",
        "scaler = MinMaxScaler()\n",
        "X_sen[:, columns_to_norm] = scaler.fit_transform(X_sen[:, columns_to_norm])\n",
        "X_sen = X_sen.astype(np.float32)"
      ],
      "metadata": {
        "id": "vrVYGruanibb"
      },
      "execution_count": 147,
      "outputs": []
    },
    {
      "cell_type": "code",
      "source": [
        "X_sen = torch.FloatTensor(X_sen)"
      ],
      "metadata": {
        "id": "MLPI8utfn1Aj"
      },
      "execution_count": 148,
      "outputs": []
    },
    {
      "cell_type": "code",
      "source": [
        "torch.manual_seed(70)\n",
        "in_features_sen=X_sen.shape[1]\n",
        "model_sen = Model(in_features_sen)"
      ],
      "metadata": {
        "id": "CliOkIeFpLAU"
      },
      "execution_count": 149,
      "outputs": []
    },
    {
      "cell_type": "code",
      "source": [
        "with torch.no_grad():\n",
        "    for i, data in enumerate((X_sen)):\n",
        "        y_pred = model_sen.forward(data)\n",
        "        if y_pred < 0.5:\n",
        "            print(0)\n",
        "        else:\n",
        "          print(1)\n"
      ],
      "metadata": {
        "colab": {
          "base_uri": "https://localhost:8080/"
        },
        "id": "54Oijo7ppOpI",
        "outputId": "c3f0633e-b92f-46fd-da73-d508c2e355d9"
      },
      "execution_count": 150,
      "outputs": [
        {
          "output_type": "stream",
          "name": "stdout",
          "text": [
            "0\n",
            "0\n",
            "0\n",
            "0\n",
            "0\n",
            "0\n",
            "0\n",
            "0\n",
            "0\n",
            "0\n",
            "0\n"
          ]
        }
      ]
    },
    {
      "cell_type": "code",
      "source": [
        "rand_test = pd.read_csv('randtest.csv')"
      ],
      "metadata": {
        "id": "2W_4zh5Rw76S"
      },
      "execution_count": 151,
      "outputs": []
    },
    {
      "cell_type": "code",
      "source": [
        "X_rand = rand_test.drop(['BIRTHDAY',' HAS A S/O ?','PIZZERIA EXPENDITURE (annual)'], axis=1)"
      ],
      "metadata": {
        "id": "FB2Td9yrxK-D"
      },
      "execution_count": 152,
      "outputs": []
    },
    {
      "cell_type": "code",
      "source": [
        "#encoding the categorical data using one hot encoding\n",
        "#independent variable\n",
        "from sklearn.compose import ColumnTransformer\n",
        "from sklearn.preprocessing import OneHotEncoder\n",
        "\n",
        "# dataset[' CLUB / DEPARTMENT'].replace('', 'NA', inplace=True)\n",
        "\n",
        "ct = ColumnTransformer(transformers=[('encoder', OneHotEncoder(), ['SEX', 'ADMISSION MODE', ' CLUB / DEPARTMENT', 'BOARD STUDIED','ATTENDS LECTURES','CHARACTER'])], remainder='passthrough')\n",
        "X_rand = np.array(ct.fit_transform(X_rand))"
      ],
      "metadata": {
        "id": "n_77AkWFxTq3"
      },
      "execution_count": 153,
      "outputs": []
    },
    {
      "cell_type": "code",
      "source": [
        "from sklearn.preprocessing import MinMaxScaler\n",
        "\n",
        "columns_to_norm = [1,3,4,7,8,10,11]\n",
        "scaler = MinMaxScaler()\n",
        "X_rand[:, columns_to_norm] = scaler.fit_transform(X_rand[:, columns_to_norm])\n",
        "X_rand = X_rand.astype(np.float32)"
      ],
      "metadata": {
        "id": "VDrHChAFxZfT"
      },
      "execution_count": 154,
      "outputs": []
    },
    {
      "cell_type": "code",
      "source": [
        "X_rand = torch.FloatTensor(X_rand)"
      ],
      "metadata": {
        "id": "Yetqf-yPxm69"
      },
      "execution_count": 155,
      "outputs": []
    },
    {
      "cell_type": "code",
      "source": [
        "torch.manual_seed(70)\n",
        "in_features_rand=X_rand.shape[1]\n",
        "model_sen = Model(in_features_rand)"
      ],
      "metadata": {
        "id": "uCtZUYgCxtxx"
      },
      "execution_count": 156,
      "outputs": []
    },
    {
      "cell_type": "code",
      "source": [
        "indexes_of_no = []\n",
        "with torch.no_grad():\n",
        "    for i, data in enumerate((X_rand)):\n",
        "        y_pred = model_sen.forward(data)\n",
        "        if y_pred < 0.5:\n",
        "            print('NO')\n",
        "            indexes_of_no.append(i)\n",
        "        else:\n",
        "          print('YES')\n",
        "print(\"Indexes of 'NO':\", indexes_of_no)"
      ],
      "metadata": {
        "colab": {
          "base_uri": "https://localhost:8080/"
        },
        "id": "T5y1r76Zxznp",
        "outputId": "cb54ea7e-093f-457d-ffab-50b95f606e90"
      },
      "execution_count": 157,
      "outputs": [
        {
          "output_type": "stream",
          "name": "stdout",
          "text": [
            "NO\n",
            "YES\n",
            "YES\n",
            "NO\n",
            "YES\n",
            "NO\n",
            "YES\n",
            "NO\n",
            "NO\n",
            "YES\n",
            "YES\n",
            "YES\n",
            "NO\n",
            "NO\n",
            "NO\n",
            "NO\n",
            "NO\n",
            "YES\n",
            "YES\n",
            "NO\n",
            "NO\n",
            "NO\n",
            "YES\n",
            "NO\n",
            "YES\n",
            "NO\n",
            "YES\n",
            "NO\n",
            "NO\n",
            "NO\n",
            "NO\n",
            "NO\n",
            "YES\n",
            "YES\n",
            "YES\n",
            "NO\n",
            "YES\n",
            "NO\n",
            "NO\n",
            "YES\n",
            "YES\n",
            "NO\n",
            "NO\n",
            "NO\n",
            "YES\n",
            "NO\n",
            "YES\n",
            "YES\n",
            "YES\n",
            "YES\n",
            "YES\n",
            "NO\n",
            "NO\n",
            "NO\n",
            "YES\n",
            "NO\n",
            "NO\n",
            "YES\n",
            "NO\n",
            "YES\n",
            "YES\n",
            "NO\n",
            "YES\n",
            "NO\n",
            "YES\n",
            "YES\n",
            "YES\n",
            "NO\n",
            "NO\n",
            "NO\n",
            "NO\n",
            "NO\n",
            "NO\n",
            "NO\n",
            "NO\n",
            "YES\n",
            "NO\n",
            "YES\n",
            "NO\n",
            "YES\n",
            "NO\n",
            "NO\n",
            "NO\n",
            "YES\n",
            "NO\n",
            "YES\n",
            "YES\n",
            "YES\n",
            "NO\n",
            "NO\n",
            "YES\n",
            "NO\n",
            "NO\n",
            "NO\n",
            "NO\n",
            "YES\n",
            "NO\n",
            "NO\n",
            "YES\n",
            "NO\n",
            "YES\n",
            "NO\n",
            "NO\n",
            "NO\n",
            "YES\n",
            "NO\n",
            "NO\n",
            "NO\n",
            "YES\n",
            "NO\n",
            "NO\n",
            "NO\n",
            "NO\n",
            "NO\n",
            "NO\n",
            "YES\n",
            "YES\n",
            "YES\n",
            "NO\n",
            "NO\n",
            "YES\n",
            "NO\n",
            "YES\n",
            "YES\n",
            "NO\n",
            "YES\n",
            "NO\n",
            "YES\n",
            "NO\n",
            "NO\n",
            "NO\n",
            "YES\n",
            "NO\n",
            "NO\n",
            "YES\n",
            "NO\n",
            "YES\n",
            "NO\n",
            "NO\n",
            "NO\n",
            "YES\n",
            "YES\n",
            "NO\n",
            "NO\n",
            "NO\n",
            "YES\n",
            "NO\n",
            "YES\n",
            "NO\n",
            "YES\n",
            "YES\n",
            "NO\n",
            "NO\n",
            "NO\n",
            "NO\n",
            "NO\n",
            "NO\n",
            "NO\n",
            "NO\n",
            "NO\n",
            "NO\n",
            "YES\n",
            "YES\n",
            "YES\n",
            "NO\n",
            "NO\n",
            "YES\n",
            "NO\n",
            "NO\n",
            "NO\n",
            "YES\n",
            "NO\n",
            "NO\n",
            "NO\n",
            "YES\n",
            "YES\n",
            "NO\n",
            "NO\n",
            "YES\n",
            "YES\n",
            "NO\n",
            "YES\n",
            "NO\n",
            "YES\n",
            "NO\n",
            "YES\n",
            "NO\n",
            "YES\n",
            "NO\n",
            "NO\n",
            "YES\n",
            "NO\n",
            "YES\n",
            "NO\n",
            "YES\n",
            "YES\n",
            "NO\n",
            "NO\n",
            "YES\n",
            "NO\n",
            "Indexes of 'NO': [0, 3, 5, 7, 8, 12, 13, 14, 15, 16, 19, 20, 21, 23, 25, 27, 28, 29, 30, 31, 35, 37, 38, 41, 42, 43, 45, 51, 52, 53, 55, 56, 58, 61, 63, 67, 68, 69, 70, 71, 72, 73, 74, 76, 78, 80, 81, 82, 84, 88, 89, 91, 92, 93, 94, 96, 97, 99, 101, 102, 103, 105, 106, 107, 109, 110, 111, 112, 113, 114, 118, 119, 121, 124, 126, 128, 129, 130, 132, 133, 135, 137, 138, 139, 142, 143, 144, 146, 148, 151, 152, 153, 154, 155, 156, 157, 158, 159, 160, 164, 165, 167, 168, 169, 171, 172, 173, 176, 177, 180, 182, 184, 186, 188, 189, 191, 193, 196, 197, 199]\n"
          ]
        }
      ]
    },
    {
      "cell_type": "code",
      "source": [
        "import csv\n",
        "\n",
        "submission = [['X_rand', 'y_pred']]\n",
        "for i in range(len(y_pred)):\n",
        "    submission.append([X_rand[i], y_pred[i]])\n",
        "\n",
        "# Writing to CSV\n",
        "with open('submission.csv', 'w', newline='') as file:\n",
        "    writer = csv.writer(file)\n",
        "    writer.writerows(submission)\n"
      ],
      "metadata": {
        "id": "b-lqyUgnzgkh"
      },
      "execution_count": 158,
      "outputs": []
    },
    {
      "cell_type": "code",
      "source": [
        "with open('randtest_pred.csv', 'w') as submissionFile:\n",
        "    writer = csv.writer(submissionFile)\n",
        "    writer.writerows(submission)"
      ],
      "metadata": {
        "id": "1zDHgjEszzAT"
      },
      "execution_count": 159,
      "outputs": []
    },
    {
      "cell_type": "code",
      "source": [
        "with open('randtest_pred.csv', 'r') as file:\n",
        "    reader = csv.reader(file)\n",
        "    for row in reader:\n",
        "        print(row)"
      ],
      "metadata": {
        "colab": {
          "base_uri": "https://localhost:8080/"
        },
        "id": "uT4FHq150oGO",
        "outputId": "51108701-700c-4de7-ad89-7203c8991e77"
      },
      "execution_count": 160,
      "outputs": [
        {
          "output_type": "stream",
          "name": "stdout",
          "text": [
            "['X_rand', 'y_pred']\n",
            "['tensor([ 0.0000,  1.0000,  0.0000,  0.0000,  1.0000,  0.0000,  0.0000,  0.0000,\\n         1.0000,  1.0000,  0.0000,  0.0000,  0.0000,  1.0000,  0.0000,  1.0000,\\n        23.0000,  8.6000,  8.0000, 14.0000,  3.0000,  9.6000])', 'tensor(0.4984)']\n"
          ]
        }
      ]
    }
  ]
}