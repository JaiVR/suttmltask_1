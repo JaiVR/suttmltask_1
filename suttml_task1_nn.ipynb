{
  "nbformat": 4,
  "nbformat_minor": 0,
  "metadata": {
    "colab": {
      "provenance": [],
      "authorship_tag": "ABX9TyMVcp49nrNcJV1FhD3HthEu",
      "include_colab_link": true
    },
    "kernelspec": {
      "name": "python3",
      "display_name": "Python 3"
    },
    "language_info": {
      "name": "python"
    }
  },
  "cells": [
    {
      "cell_type": "markdown",
      "metadata": {
        "id": "view-in-github",
        "colab_type": "text"
      },
      "source": [
        "<a href=\"https://colab.research.google.com/github/JaiVR/suttmltask_1/blob/main/suttml_task1_nn.ipynb\" target=\"_parent\"><img src=\"https://colab.research.google.com/assets/colab-badge.svg\" alt=\"Open In Colab\"/></a>"
      ]
    },
    {
      "cell_type": "code",
      "execution_count": 1290,
      "metadata": {
        "id": "USQ8jG00HomK"
      },
      "outputs": [],
      "source": [
        "import torch\n",
        "import torch.nn as nn\n",
        "import torch.nn.functional as F"
      ]
    },
    {
      "cell_type": "code",
      "source": [
        "import numpy as np\n",
        "import matplotlib.pyplot as plt\n",
        "import pandas as pd\n",
        "import seaborn as sns\n",
        "%matplotlib inline"
      ],
      "metadata": {
        "id": "NDdW6r5VIbiw"
      },
      "execution_count": 1291,
      "outputs": []
    },
    {
      "cell_type": "code",
      "source": [
        "dataset= pd.read_csv('sutt.csv')"
      ],
      "metadata": {
        "id": "XNzYBCbMNkrD"
      },
      "execution_count": 1292,
      "outputs": []
    },
    {
      "cell_type": "code",
      "source": [
        "#fixing the casing issues in club/dept. column\n",
        "def replace_value(value):\n",
        "    if value == 's':\n",
        "        return 'sutt'\n",
        "    elif value == 'd' or value == 'v':\n",
        "        return 'dvm'\n",
        "    elif value == 'g':\n",
        "        return 'gaming club'\n",
        "    elif value == 'm':\n",
        "        return 'mountaineering club'\n",
        "    else:\n",
        "        return value\n",
        "\n",
        "\n",
        "dataset[' CLUB / DEPARTMENT'] = dataset[' CLUB / DEPARTMENT'].str.lower().str[0].apply(replace_value)"
      ],
      "metadata": {
        "id": "9P-UMjQIXa9q"
      },
      "execution_count": 1293,
      "outputs": []
    },
    {
      "cell_type": "code",
      "source": [
        "X = dataset.drop(['BIRTHDAY', 'DAYS SINCE LAST SHOWER', 'TREATS GIVEN','PIZZERIA EXPENDITURE (annual)', 'GPL'], axis=1)\n",
        "#y --> dependent variable\n",
        "y = dataset['GPL']"
      ],
      "metadata": {
        "id": "JRbL6LTxHyCd"
      },
      "execution_count": 1294,
      "outputs": []
    },
    {
      "cell_type": "code",
      "source": [
        "#encoding the categorical data using one hot encoding\n",
        "#independent variable\n",
        "from sklearn.compose import ColumnTransformer\n",
        "from sklearn.preprocessing import OneHotEncoder\n",
        "\n",
        "dataset[' CLUB / DEPARTMENT'].replace('', 'NA', inplace=True)\n",
        "\n",
        "ct = ColumnTransformer(transformers=[('encoder', OneHotEncoder(), ['SEX', 'ADMISSION MODE', ' CLUB / DEPARTMENT', 'BOARD STUDIED', ' HAS A S/O ?', 'ATTENDS LECTURES','CHARACTER'])], remainder='passthrough')\n",
        "X = np.array(ct.fit_transform(X))"
      ],
      "metadata": {
        "id": "becQojbFJXDT"
      },
      "execution_count": 1295,
      "outputs": []
    },
    {
      "cell_type": "code",
      "source": [
        "#taking care of missing values\n",
        "#this code replaces the missing value with the mean of that particular column\n",
        "\n",
        "columns_to_impute = [1,3,4,10]\n",
        "X[:, columns_to_impute] = X[:, columns_to_impute].astype(float)\n",
        "from sklearn.impute import SimpleImputer\n",
        "imputer = SimpleImputer(missing_values=np.NaN, strategy='mean')\n",
        "imputer.fit(X[:, columns_to_impute])\n",
        "X[:, columns_to_impute] = imputer.transform(X[:, columns_to_impute])"
      ],
      "metadata": {
        "id": "SDjKdBg9Jfr_"
      },
      "execution_count": 1296,
      "outputs": []
    },
    {
      "cell_type": "code",
      "source": [
        "#encoding dependent variable\n",
        "from sklearn.preprocessing import LabelEncoder\n",
        "le = LabelEncoder()\n",
        "y = le.fit_transform(y)"
      ],
      "metadata": {
        "id": "aYe2fkaqJkx-"
      },
      "execution_count": 1297,
      "outputs": []
    },
    {
      "cell_type": "code",
      "source": [
        "#splitting the dataset into training set and test set\n",
        "from sklearn.model_selection import train_test_split\n",
        "X_train, X_test, y_train, y_test = train_test_split(X, y, test_size = 0.2, random_state = 1)"
      ],
      "metadata": {
        "id": "wUuvSXt9Jrsf"
      },
      "execution_count": 1298,
      "outputs": []
    },
    {
      "cell_type": "code",
      "source": [
        "from sklearn.preprocessing import MinMaxScaler\n",
        "\n",
        "columns_to_norm = [1,3,4,10]\n",
        "scaler = MinMaxScaler()\n",
        "X_train[:, columns_to_norm] = scaler.fit_transform(X_train[:, columns_to_norm])\n",
        "X_test[:, columns_to_norm] = scaler.transform(X_test[:, columns_to_norm])\n",
        "X_train = X_train.astype(np.float32)\n",
        "X_test = X_test.astype(np.float32)"
      ],
      "metadata": {
        "id": "2pSqow7dKqE6"
      },
      "execution_count": 1299,
      "outputs": []
    },
    {
      "cell_type": "code",
      "source": [
        "print(y_train)"
      ],
      "metadata": {
        "colab": {
          "base_uri": "https://localhost:8080/"
        },
        "id": "-h_-fftmV_tj",
        "outputId": "f933c793-00cd-4d01-c099-f926febcc740"
      },
      "execution_count": 1300,
      "outputs": [
        {
          "output_type": "stream",
          "name": "stdout",
          "text": [
            "[0 0 1 1 1 0 0 0 0 0 1 0 1 0 0 0 1 0 1 1 1 1 0 0 0 0 1 0 0 0 0 0 0 1 0 0 0\n",
            " 1 0 0 1 1 0 1 1 0 1 0 1 0 0 0 0 0 0 1 1 1 0 0 1 1 0 0 0 0 0 0 0 1 0 0 0 0\n",
            " 1 1 0 0 1 0 0 0 0 1 0 0 0 1 0 0 0 0 1 0 1 1 0 0 0 1 0 1 0 0 0 0 1 0 1 0 0\n",
            " 1 0 1 0 1 1 1 1 0 0 1 0 0 1 1 1 1 1 1 1 0 0 0 1 0 0 1 0 0 0 0 0 1 0 1 0 0\n",
            " 0 1 0 0 0 1 0 0 0 0 1 1 1 0 0 0 0 0 0 0 1 1 1 0 0 0 1 0 1 1 0 1 0 0 1 0 1\n",
            " 0 0 1 0 1 1 1 0 0 0 1 1 0 1 0 0 0 0 1 1 0 1 0 0 0 0 0 1 1 0 1 0 1 1 0 1 0\n",
            " 1 0 0 0 0 0 1 0 0 0 0 0 1 0 0 0 1 0 0 1 0 0 1 0 0 1 0 1 1 0 1 0 0 0 0 1 0\n",
            " 1 1 1 0 0 0 1 0 1 0 0 0 0 1 1 0 1 0 1 0 1 1 1 0 1 0 1 0 0 1 0 1 0 0 0 1 1\n",
            " 0 1 1 0 0 0 0 1 1 0 0 1 1 0 0 1 0 1 1 1 1 1 0 1 1 0 1 0 0 0 1 0 0 1 1 1 1\n",
            " 0 0 0 1 0 1 1 1 0 1 1 1 1 0 0 0 0 0 1 1 1 1 0 0 1 0 0 1 0 0 1 1 0 0 1 1 0\n",
            " 0 0 0 1 0 1 0 0 1 1 0 0 0 1 1 0 0 0 1 0 0 0 1 0 0 0 1 0 1 0 0 0 0 1 0 0 0\n",
            " 0 1 1 1 0 0 0 1 0 1 0 0 0 0 0 1 0 0 1 0 0 1 0 1 1 1 0 1 0 0 1 0 0 0 1 1 0\n",
            " 1 0 0 0 0 1 0 0 1 0 0 1 0 0 1 0 1 0 0 1 0 1 1 0 1 1 0 0 0 1 0 0 1 0 1 1 0\n",
            " 1 0 0 0 0 0 0 0 1 0 0 0 0 0 0 0 1 0 1 1 0 0 0 0 1 1 0 0 0 0 0 1 1 1 0 1 1\n",
            " 1 0 1 1 1 0 0 0 1 1 0 1 1 0 0 0 1 1 1 0 0 1 0 1 1 1 0 1 0 1 1 0 0 1 0 1 1\n",
            " 1 0 0 1 0 1 1 0 1 1 1 0 1 1 1 1 1 0 0 0 0 0 0 0 0 0 0 0 0 1 0 0 0 1 1 0 0\n",
            " 1 1 1 0 0 1 0 0 1 1 0 1 0 1 1 0 0 0 0 1 1 0 0 0 0 0 0 0 0 0 0 0 1 0 0 0 1\n",
            " 0 1 1 0 0 0 0 1 0 0 0 0 1 1 0 0 0 1 1 1 1 0 0 1 0 0 1 0 0 1 0 0 1 0 0 1 0\n",
            " 0 0 0 1 1 1 0 0 1 0 0 0 0 0 0 1 1 0 0 0 0 1 1 1 0 1 1 1 0 1 0 0 1 0 0 1 1\n",
            " 0 0 0 1 1 1 0 1 1 0 1 0 0 0 0 1 0 1 0 0 0 0 1 1 0 0 1 1 1 0 0 0 0 0 0 0 1\n",
            " 0 0 0 1 1 0 1 0 0 0 0 0 0 0 0 1 0 1 0 1 1 1 1 0 0 0 0 0 1 1 0 0 1 0 0 0 0\n",
            " 0 1 0 0 1 0 1 1 0 0 0 0 1 0 0 0 0 1 0 1 0 0 0 0 0 1 0 1 1 0 1 0 0 0 1 0 0\n",
            " 1 1 0 1 0 1 0 0 0 0 0 1 0 0 0 0 0 0 0 0 1 0 1 0 1 1 0 0 0 0 0 0 0 1 0 0 0\n",
            " 0 0 0 1 0 0 0 0 0 0 0 0 1 1 0 0 0 0 0 0 1 1 1 0 1 0 0 1]\n"
          ]
        }
      ]
    },
    {
      "cell_type": "markdown",
      "source": [
        "converting X and y to tensors"
      ],
      "metadata": {
        "id": "d9Mk6fZIRO0W"
      }
    },
    {
      "cell_type": "code",
      "source": [
        "X_train = torch.FloatTensor(X_train)\n",
        "X_test = torch.FloatTensor(X_test)"
      ],
      "metadata": {
        "id": "jUzsnRXwKyF7"
      },
      "execution_count": 1301,
      "outputs": []
    },
    {
      "cell_type": "code",
      "source": [
        "y_train = torch.FloatTensor(y_train)\n",
        "y_test = torch.FloatTensor(y_test)"
      ],
      "metadata": {
        "id": "jSCftBMlQZJK"
      },
      "execution_count": 1302,
      "outputs": []
    },
    {
      "cell_type": "code",
      "source": [
        "class Model(nn.Module):\n",
        "  def __init__(self,in_features,h1=32,h2=16,h3=8,h4=4,out_features=1):\n",
        "    super().__init__()\n",
        "    self.fc1 = nn.Linear(in_features,h1)\n",
        "    self.fc2 = nn.Linear(h1,h2)\n",
        "    self.fc3 = nn.Linear(h2,h3)\n",
        "    self.fc4 = nn.Linear(h3,h4)\n",
        "    self.out = nn.Linear(h4,out_features)\n",
        "    self.sigmoid = torch.nn.Sigmoid()\n",
        "\n",
        "  def forward(self,x):\n",
        "    x = self.fc1(x)\n",
        "    x = self.fc2(x)\n",
        "    x = F.relu(self.fc3(x))\n",
        "    x = F.relu(self.fc4(x))\n",
        "    x = self.out(x)\n",
        "    x = self.sigmoid(x)\n",
        "    return x"
      ],
      "metadata": {
        "id": "Jbt49-yGc9s-"
      },
      "execution_count": 1303,
      "outputs": []
    },
    {
      "cell_type": "code",
      "source": [
        "#pick a manual seed\n",
        "torch.manual_seed(70)\n",
        "in_features=X_train.shape[1]\n",
        "model = Model(in_features)"
      ],
      "metadata": {
        "id": "kqkNio_9dQ7G"
      },
      "execution_count": 1304,
      "outputs": []
    },
    {
      "cell_type": "code",
      "source": [
        "#criterion of model to measure the error\n",
        "criterion = nn.CrossEntropyLoss()\n",
        "#choosing adam optimizer and learning rate\n",
        "optimizer = torch.optim.Adam(model.parameters(),lr= 0.001)"
      ],
      "metadata": {
        "id": "ZWdxv8MHQv44"
      },
      "execution_count": 1305,
      "outputs": []
    },
    {
      "cell_type": "code",
      "source": [
        "epochs = 100\n",
        "losses = []\n",
        "for i in range(epochs):\n",
        "  y_pred = model.forward(torch.nan_to_num(X_train)).squeeze(1)\n",
        "  # print(y_pred)\n",
        "  #measure the loss/error\n",
        "  loss = criterion(y_train,y_pred)\n",
        "  losses.append(loss.detach().numpy())\n",
        "\n",
        "  #print every 10 epoch\n",
        "  if i % 10 == 0:\n",
        "    print(f'Epoch:{i} and loss:{loss}')\n",
        "\n",
        "  optimizer.zero_grad()\n",
        "  loss.backward()\n",
        "  optimizer.step()"
      ],
      "metadata": {
        "colab": {
          "base_uri": "https://localhost:8080/"
        },
        "id": "6uwOuCXxRybR",
        "outputId": "68dbb770-2bde-4648-b837-76e9297f6a67"
      },
      "execution_count": 1306,
      "outputs": [
        {
          "output_type": "stream",
          "name": "stdout",
          "text": [
            "Epoch:0 and loss:3736.96044921875\n",
            "Epoch:10 and loss:3524.767333984375\n",
            "Epoch:20 and loss:3334.309814453125\n",
            "Epoch:30 and loss:2999.33056640625\n",
            "Epoch:40 and loss:2415.55029296875\n",
            "Epoch:50 and loss:1494.9228515625\n",
            "Epoch:60 and loss:566.4159545898438\n",
            "Epoch:70 and loss:157.9290008544922\n",
            "Epoch:80 and loss:58.73375701904297\n",
            "Epoch:90 and loss:32.97190856933594\n"
          ]
        }
      ]
    },
    {
      "cell_type": "code",
      "source": [
        "plt.plot(range(epochs),losses)\n",
        "plt.ylabel(\"loss\")\n",
        "plt.xlabel(\"epochs\")"
      ],
      "metadata": {
        "colab": {
          "base_uri": "https://localhost:8080/",
          "height": 467
        },
        "id": "AUPUqsTRZAWE",
        "outputId": "1002fb0a-6aa1-4f9a-c9b3-0bc4e25e5cbf"
      },
      "execution_count": 1307,
      "outputs": [
        {
          "output_type": "execute_result",
          "data": {
            "text/plain": [
              "Text(0.5, 0, 'epochs')"
            ]
          },
          "metadata": {},
          "execution_count": 1307
        },
        {
          "output_type": "display_data",
          "data": {
            "text/plain": [
              "<Figure size 640x480 with 1 Axes>"
            ],
            "image/png": "[encoded data removed]"
          },
          "metadata": {}
        }
      ]
    },
    {
      "cell_type": "code",
      "source": [
        "with torch.no_grad():\n",
        "  y_eval = model.forward(torch.nan_to_num(X_test)).squeeze(1)\n",
        "  loss = criterion(y_eval,y_test)"
      ],
      "metadata": {
        "id": "Bv5j2L0kaVyI"
      },
      "execution_count": 1308,
      "outputs": []
    },
    {
      "cell_type": "code",
      "source": [
        "loss"
      ],
      "metadata": {
        "colab": {
          "base_uri": "https://localhost:8080/"
        },
        "id": "LfdcwtGfbqz6",
        "outputId": "97e41a00-1127-48ea-9adc-1e385027848c"
      },
      "execution_count": 1309,
      "outputs": [
        {
          "output_type": "execute_result",
          "data": {
            "text/plain": [
              "tensor(490.7185)"
            ]
          },
          "metadata": {},
          "execution_count": 1309
        }
      ]
    },
    {
      "cell_type": "code",
      "source": [
        "correct = 0\n",
        "total = 0\n",
        "\n",
        "with torch.no_grad():\n",
        "    for i, data in enumerate(torch.nan_to_num(X_test)):\n",
        "        y_pred = model.forward(data)\n",
        "\n",
        "        if y_pred.argmax().item() == y_test[i]:\n",
        "            correct += 1\n",
        "        total += 1\n",
        "\n",
        "accuracy = correct / total * 100\n",
        "print(f'Accuracy: {accuracy}')"
      ],
      "metadata": {
        "colab": {
          "base_uri": "https://localhost:8080/"
        },
        "id": "dZgJ139Gbxvn",
        "outputId": "03bb62a3-5d9d-4886-f2ab-c902cb9a2340"
      },
      "execution_count": 1310,
      "outputs": [
        {
          "output_type": "stream",
          "name": "stdout",
          "text": [
            "Accuracy: 58.63636363636363\n"
          ]
        }
      ]
    },
    {
      "cell_type": "code",
      "source": [
        "seniors = pd.read_csv('seniors.csv')"
      ],
      "metadata": {
        "id": "FN2-Wi4gkg6U"
      },
      "execution_count": 1311,
      "outputs": []
    },
    {
      "cell_type": "code",
      "source": [
        "seniors.head()"
      ],
      "metadata": {
        "id": "42hyEf1JlgpO",
        "outputId": "b16a890c-b175-49a5-a7c2-3b4ba9abee74",
        "colab": {
          "base_uri": "https://localhost:8080/",
          "height": 296
        }
      },
      "execution_count": 1312,
      "outputs": [
        {
          "output_type": "execute_result",
          "data": {
            "text/plain": [
              "          NAME     SEX   AGES ADMISSION MODE  CGPA - 1  CGPA-2  \\\n",
              "0        Vaasu  female     18   BOARD TOPPER      3.24       4   \n",
              "1        Rajat    male     19         BITSAT      6.45       6   \n",
              "2        Akhil    male     16         BITSAT      6.23       7   \n",
              "3         Yash    male     17         BITSAT      8.43      10   \n",
              "4  Yashwardhan    male     17         BITSAT      3.76       6   \n",
              "\n",
              "   CLUB / DEPARTMENT BOARD STUDIED  DAYS SINCE LAST SHOWER   BIRTHDAY  \\\n",
              "0               SUTT          CBSE                      14  9/15/2006   \n",
              "1               SUTT          CBSE                       8  7/23/2005   \n",
              "2               SUTT          CBSE                      10  4/10/2007   \n",
              "3               SUTT          CBSE                       4  7/18/2007   \n",
              "4               SUTT          CBSE                      13  7/13/2007   \n",
              "\n",
              "   TREATS GIVEN  HAS A S/O ? ATTENDS LECTURES CHARACTER  \\\n",
              "0             0           NO              YES      GHOT   \n",
              "1             1          YES              YES      LITE   \n",
              "2             3           NO               NO      LITE   \n",
              "3             4           NO              YES      LITE   \n",
              "4             3          YES              YES      LITE   \n",
              "\n",
              "   PIZZERIA EXPENDITURE (annual)  GRAMS / MONTH  \n",
              "0                          20898            2.5  \n",
              "1                          11695            5.7  \n",
              "2                          16116           22.0  \n",
              "3                          13938            0.8  \n",
              "4                          18635            5.4  "
            ],
            "text/html": [
              "\n",
              "  <div id=\"df-16c8cce4-792a-4589-a41d-3f3c251f2f63\" class=\"colab-df-container\">\n",
              "    <div>\n",
              "<style scoped>\n",
              "    .dataframe tbody tr th:only-of-type {\n",
              "        vertical-align: middle;\n",
              "    }\n",
              "\n",
              "    .dataframe tbody tr th {\n",
              "        vertical-align: top;\n",
              "    }\n",
              "\n",
              "    .dataframe thead th {\n",
              "        text-align: right;\n",
              "    }\n",
              "</style>\n",
              "<table border=\"1\" class=\"dataframe\">\n",
              "  <thead>\n",
              "    <tr style=\"text-align: right;\">\n",
              "      <th></th>\n",
              "      <th>NAME</th>\n",
              "      <th>SEX</th>\n",
              "      <th>AGES</th>\n",
              "      <th>ADMISSION MODE</th>\n",
              "      <th>CGPA - 1</th>\n",
              "      <th>CGPA-2</th>\n",
              "      <th>CLUB / DEPARTMENT</th>\n",
              "      <th>BOARD STUDIED</th>\n",
              "      <th>DAYS SINCE LAST SHOWER</th>\n",
              "      <th>BIRTHDAY</th>\n",
              "      <th>TREATS GIVEN</th>\n",
              "      <th>HAS A S/O ?</th>\n",
              "      <th>ATTENDS LECTURES</th>\n",
              "      <th>CHARACTER</th>\n",
              "      <th>PIZZERIA EXPENDITURE (annual)</th>\n",
              "      <th>GRAMS / MONTH</th>\n",
              "    </tr>\n",
              "  </thead>\n",
              "  <tbody>\n",
              "    <tr>\n",
              "      <th>0</th>\n",
              "      <td>Vaasu</td>\n",
              "      <td>female</td>\n",
              "      <td>18</td>\n",
              "      <td>BOARD TOPPER</td>\n",
              "      <td>3.24</td>\n",
              "      <td>4</td>\n",
              "      <td>SUTT</td>\n",
              "      <td>CBSE</td>\n",
              "      <td>14</td>\n",
              "      <td>9/15/2006</td>\n",
              "      <td>0</td>\n",
              "      <td>NO</td>\n",
              "      <td>YES</td>\n",
              "      <td>GHOT</td>\n",
              "      <td>20898</td>\n",
              "      <td>2.5</td>\n",
              "    </tr>\n",
              "    <tr>\n",
              "      <th>1</th>\n",
              "      <td>Rajat</td>\n",
              "      <td>male</td>\n",
              "      <td>19</td>\n",
              "      <td>BITSAT</td>\n",
              "      <td>6.45</td>\n",
              "      <td>6</td>\n",
              "      <td>SUTT</td>\n",
              "      <td>CBSE</td>\n",
              "      <td>8</td>\n",
              "      <td>7/23/2005</td>\n",
              "      <td>1</td>\n",
              "      <td>YES</td>\n",
              "      <td>YES</td>\n",
              "      <td>LITE</td>\n",
              "      <td>11695</td>\n",
              "      <td>5.7</td>\n",
              "    </tr>\n",
              "    <tr>\n",
              "      <th>2</th>\n",
              "      <td>Akhil</td>\n",
              "      <td>male</td>\n",
              "      <td>16</td>\n",
              "      <td>BITSAT</td>\n",
              "      <td>6.23</td>\n",
              "      <td>7</td>\n",
              "      <td>SUTT</td>\n",
              "      <td>CBSE</td>\n",
              "      <td>10</td>\n",
              "      <td>4/10/2007</td>\n",
              "      <td>3</td>\n",
              "      <td>NO</td>\n",
              "      <td>NO</td>\n",
              "      <td>LITE</td>\n",
              "      <td>16116</td>\n",
              "      <td>22.0</td>\n",
              "    </tr>\n",
              "    <tr>\n",
              "      <th>3</th>\n",
              "      <td>Yash</td>\n",
              "      <td>male</td>\n",
              "      <td>17</td>\n",
              "      <td>BITSAT</td>\n",
              "      <td>8.43</td>\n",
              "      <td>10</td>\n",
              "      <td>SUTT</td>\n",
              "      <td>CBSE</td>\n",
              "      <td>4</td>\n",
              "      <td>7/18/2007</td>\n",
              "      <td>4</td>\n",
              "      <td>NO</td>\n",
              "      <td>YES</td>\n",
              "      <td>LITE</td>\n",
              "      <td>13938</td>\n",
              "      <td>0.8</td>\n",
              "    </tr>\n",
              "    <tr>\n",
              "      <th>4</th>\n",
              "      <td>Yashwardhan</td>\n",
              "      <td>male</td>\n",
              "      <td>17</td>\n",
              "      <td>BITSAT</td>\n",
              "      <td>3.76</td>\n",
              "      <td>6</td>\n",
              "      <td>SUTT</td>\n",
              "      <td>CBSE</td>\n",
              "      <td>13</td>\n",
              "      <td>7/13/2007</td>\n",
              "      <td>3</td>\n",
              "      <td>YES</td>\n",
              "      <td>YES</td>\n",
              "      <td>LITE</td>\n",
              "      <td>18635</td>\n",
              "      <td>5.4</td>\n",
              "    </tr>\n",
              "  </tbody>\n",
              "</table>\n",
              "</div>\n",
              "    <div class=\"colab-df-buttons\">\n",
              "\n",
              "  <div class=\"colab-df-container\">\n",
              "    <button class=\"colab-df-convert\" onclick=\"convertToInteractive('df-16c8cce4-792a-4589-a41d-3f3c251f2f63')\"\n",
              "            title=\"Convert this dataframe to an interactive table.\"\n",
              "            style=\"display:none;\">\n",
              "\n",
              "  <svg xmlns=\"http://www.w3.org/2000/svg\" height=\"24px\" viewBox=\"0 -960 960 960\">\n",
              "    <path d=\"M120-120v-720h720v720H120Zm60-500h600v-160H180v160Zm220 220h160v-160H400v160Zm0 220h160v-160H400v160ZM180-400h160v-160H180v160Zm440 0h160v-160H620v160ZM180-180h160v-160H180v160Zm440 0h160v-160H620v160Z\"/>\n",
              "  </svg>\n",
              "    </button>\n",
              "\n",
              "  <style>\n",
              "    .colab-df-container {\n",
              "      display:flex;\n",
              "      gap: 12px;\n",
              "    }\n",
              "\n",
              "    .colab-df-convert {\n",
              "      background-color: #E8F0FE;\n",
              "      border: none;\n",
              "      border-radius: 50%;\n",
              "      cursor: pointer;\n",
              "      display: none;\n",
              "      fill: #1967D2;\n",
              "      height: 32px;\n",
              "      padding: 0 0 0 0;\n",
              "      width: 32px;\n",
              "    }\n",
              "\n",
              "    .colab-df-convert:hover {\n",
              "      background-color: #E2EBFA;\n",
              "      box-shadow: 0px 1px 2px rgba(60, 64, 67, 0.3), 0px 1px 3px 1px rgba(60, 64, 67, 0.15);\n",
              "      fill: #174EA6;\n",
              "    }\n",
              "\n",
              "    .colab-df-buttons div {\n",
              "      margin-bottom: 4px;\n",
              "    }\n",
              "\n",
              "    [theme=dark] .colab-df-convert {\n",
              "      background-color: #3B4455;\n",
              "      fill: #D2E3FC;\n",
              "    }\n",
              "\n",
              "    [theme=dark] .colab-df-convert:hover {\n",
              "      background-color: #434B5C;\n",
              "      box-shadow: 0px 1px 3px 1px rgba(0, 0, 0, 0.15);\n",
              "      filter: drop-shadow(0px 1px 2px rgba(0, 0, 0, 0.3));\n",
              "      fill: #FFFFFF;\n",
              "    }\n",
              "  </style>\n",
              "\n",
              "    <script>\n",
              "      const buttonEl =\n",
              "        document.querySelector('#df-16c8cce4-792a-4589-a41d-3f3c251f2f63 button.colab-df-convert');\n",
              "      buttonEl.style.display =\n",
              "        google.colab.kernel.accessAllowed ? 'block' : 'none';\n",
              "\n",
              "      async function convertToInteractive(key) {\n",
              "        const element = document.querySelector('#df-16c8cce4-792a-4589-a41d-3f3c251f2f63');\n",
              "        const dataTable =\n",
              "          await google.colab.kernel.invokeFunction('convertToInteractive',\n",
              "                                                    [key], {});\n",
              "        if (!dataTable) return;\n",
              "\n",
              "        const docLinkHtml = 'Like what you see? Visit the ' +\n",
              "          '<a target=\"_blank\" href=https://colab.research.google.com/notebooks/data_table.ipynb>data table notebook</a>'\n",
              "          + ' to learn more about interactive tables.';\n",
              "        element.innerHTML = '';\n",
              "        dataTable['output_type'] = 'display_data';\n",
              "        await google.colab.output.renderOutput(dataTable, element);\n",
              "        const docLink = document.createElement('div');\n",
              "        docLink.innerHTML = docLinkHtml;\n",
              "        element.appendChild(docLink);\n",
              "      }\n",
              "    </script>\n",
              "  </div>\n",
              "\n",
              "\n",
              "<div id=\"df-73df4d22-7cf2-45c6-be7e-846211297f3c\">\n",
              "  <button class=\"colab-df-quickchart\" onclick=\"quickchart('df-73df4d22-7cf2-45c6-be7e-846211297f3c')\"\n",
              "            title=\"Suggest charts\"\n",
              "            style=\"display:none;\">\n",
              "\n",
              "<svg xmlns=\"http://www.w3.org/2000/svg\" height=\"24px\"viewBox=\"0 0 24 24\"\n",
              "     width=\"24px\">\n",
              "    <g>\n",
              "        <path d=\"M19 3H5c-1.1 0-2 .9-2 2v14c0 1.1.9 2 2 2h14c1.1 0 2-.9 2-2V5c0-1.1-.9-2-2-2zM9 17H7v-7h2v7zm4 0h-2V7h2v10zm4 0h-2v-4h2v4z\"/>\n",
              "    </g>\n",
              "</svg>\n",
              "  </button>\n",
              "\n",
              "<style>\n",
              "  .colab-df-quickchart {\n",
              "      --bg-color: #E8F0FE;\n",
              "      --fill-color: #1967D2;\n",
              "      --hover-bg-color: #E2EBFA;\n",
              "      --hover-fill-color: #174EA6;\n",
              "      --disabled-fill-color: #AAA;\n",
              "      --disabled-bg-color: #DDD;\n",
              "  }\n",
              "\n",
              "  [theme=dark] .colab-df-quickchart {\n",
              "      --bg-color: #3B4455;\n",
              "      --fill-color: #D2E3FC;\n",
              "      --hover-bg-color: #434B5C;\n",
              "      --hover-fill-color: #FFFFFF;\n",
              "      --disabled-bg-color: #3B4455;\n",
              "      --disabled-fill-color: #666;\n",
              "  }\n",
              "\n",
              "  .colab-df-quickchart {\n",
              "    background-color: var(--bg-color);\n",
              "    border: none;\n",
              "    border-radius: 50%;\n",
              "    cursor: pointer;\n",
              "    display: none;\n",
              "    fill: var(--fill-color);\n",
              "    height: 32px;\n",
              "    padding: 0;\n",
              "    width: 32px;\n",
              "  }\n",
              "\n",
              "  .colab-df-quickchart:hover {\n",
              "    background-color: var(--hover-bg-color);\n",
              "    box-shadow: 0 1px 2px rgba(60, 64, 67, 0.3), 0 1px 3px 1px rgba(60, 64, 67, 0.15);\n",
              "    fill: var(--button-hover-fill-color);\n",
              "  }\n",
              "\n",
              "  .colab-df-quickchart-complete:disabled,\n",
              "  .colab-df-quickchart-complete:disabled:hover {\n",
              "    background-color: var(--disabled-bg-color);\n",
              "    fill: var(--disabled-fill-color);\n",
              "    box-shadow: none;\n",
              "  }\n",
              "\n",
              "  .colab-df-spinner {\n",
              "    border: 2px solid var(--fill-color);\n",
              "    border-color: transparent;\n",
              "    border-bottom-color: var(--fill-color);\n",
              "    animation:\n",
              "      spin 1s steps(1) infinite;\n",
              "  }\n",
              "\n",
              "  @keyframes spin {\n",
              "    0% {\n",
              "      border-color: transparent;\n",
              "      border-bottom-color: var(--fill-color);\n",
              "      border-left-color: var(--fill-color);\n",
              "    }\n",
              "    20% {\n",
              "      border-color: transparent;\n",
              "      border-left-color: var(--fill-color);\n",
              "      border-top-color: var(--fill-color);\n",
              "    }\n",
              "    30% {\n",
              "      border-color: transparent;\n",
              "      border-left-color: var(--fill-color);\n",
              "      border-top-color: var(--fill-color);\n",
              "      border-right-color: var(--fill-color);\n",
              "    }\n",
              "    40% {\n",
              "      border-color: transparent;\n",
              "      border-right-color: var(--fill-color);\n",
              "      border-top-color: var(--fill-color);\n",
              "    }\n",
              "    60% {\n",
              "      border-color: transparent;\n",
              "      border-right-color: var(--fill-color);\n",
              "    }\n",
              "    80% {\n",
              "      border-color: transparent;\n",
              "      border-right-color: var(--fill-color);\n",
              "      border-bottom-color: var(--fill-color);\n",
              "    }\n",
              "    90% {\n",
              "      border-color: transparent;\n",
              "      border-bottom-color: var(--fill-color);\n",
              "    }\n",
              "  }\n",
              "</style>\n",
              "\n",
              "  <script>\n",
              "    async function quickchart(key) {\n",
              "      const quickchartButtonEl =\n",
              "        document.querySelector('#' + key + ' button');\n",
              "      quickchartButtonEl.disabled = true;  // To prevent multiple clicks.\n",
              "      quickchartButtonEl.classList.add('colab-df-spinner');\n",
              "      try {\n",
              "        const charts = await google.colab.kernel.invokeFunction(\n",
              "            'suggestCharts', [key], {});\n",
              "      } catch (error) {\n",
              "        console.error('Error during call to suggestCharts:', error);\n",
              "      }\n",
              "      quickchartButtonEl.classList.remove('colab-df-spinner');\n",
              "      quickchartButtonEl.classList.add('colab-df-quickchart-complete');\n",
              "    }\n",
              "    (() => {\n",
              "      let quickchartButtonEl =\n",
              "        document.querySelector('#df-73df4d22-7cf2-45c6-be7e-846211297f3c button');\n",
              "      quickchartButtonEl.style.display =\n",
              "        google.colab.kernel.accessAllowed ? 'block' : 'none';\n",
              "    })();\n",
              "  </script>\n",
              "</div>\n",
              "\n",
              "    </div>\n",
              "  </div>\n"
            ],
            "application/vnd.google.colaboratory.intrinsic+json": {
              "type": "dataframe",
              "variable_name": "seniors",
              "summary": "{\n  \"name\": \"seniors\",\n  \"rows\": 11,\n  \"fields\": [\n    {\n      \"column\": \"NAME\",\n      \"properties\": {\n        \"dtype\": \"string\",\n        \"num_unique_values\": 11,\n        \"samples\": [\n          \"Aaryan\",\n          \"Vaasu\",\n          \"Tanay\"\n        ],\n        \"semantic_type\": \"\",\n        \"description\": \"\"\n      }\n    },\n    {\n      \"column\": \"SEX\",\n      \"properties\": {\n        \"dtype\": \"category\",\n        \"num_unique_values\": 2,\n        \"samples\": [\n          \"male\",\n          \"female\"\n        ],\n        \"semantic_type\": \"\",\n        \"description\": \"\"\n      }\n    },\n    {\n      \"column\": \" AGES\",\n      \"properties\": {\n        \"dtype\": \"number\",\n        \"std\": 1,\n        \"min\": 16,\n        \"max\": 22,\n        \"num_unique_values\": 5,\n        \"samples\": [\n          19,\n          22\n        ],\n        \"semantic_type\": \"\",\n        \"description\": \"\"\n      }\n    },\n    {\n      \"column\": \"ADMISSION MODE\",\n      \"properties\": {\n        \"dtype\": \"category\",\n        \"num_unique_values\": 2,\n        \"samples\": [\n          \"BITSAT\",\n          \"BOARD TOPPER\"\n        ],\n        \"semantic_type\": \"\",\n        \"description\": \"\"\n      }\n    },\n    {\n      \"column\": \"CGPA - 1\",\n      \"properties\": {\n        \"dtype\": \"number\",\n        \"std\": 1.9693972312729229,\n        \"min\": 3.24,\n        \"max\": 9.03,\n        \"num_unique_values\": 11,\n        \"samples\": [\n          8.2,\n          3.24\n        ],\n        \"semantic_type\": \"\",\n        \"description\": \"\"\n      }\n    },\n    {\n      \"column\": \"CGPA-2\",\n      \"properties\": {\n        \"dtype\": \"number\",\n        \"std\": 2,\n        \"min\": 4,\n        \"max\": 10,\n        \"num_unique_values\": 5,\n        \"samples\": [\n          6,\n          9\n        ],\n        \"semantic_type\": \"\",\n        \"description\": \"\"\n      }\n    },\n    {\n      \"column\": \" CLUB / DEPARTMENT\",\n      \"properties\": {\n        \"dtype\": \"category\",\n        \"num_unique_values\": 1,\n        \"samples\": [\n          \"SUTT\"\n        ],\n        \"semantic_type\": \"\",\n        \"description\": \"\"\n      }\n    },\n    {\n      \"column\": \"BOARD STUDIED\",\n      \"properties\": {\n        \"dtype\": \"category\",\n        \"num_unique_values\": 1,\n        \"samples\": [\n          \"CBSE\"\n        ],\n        \"semantic_type\": \"\",\n        \"description\": \"\"\n      }\n    },\n    {\n      \"column\": \"DAYS SINCE LAST SHOWER\",\n      \"properties\": {\n        \"dtype\": \"number\",\n        \"std\": 3,\n        \"min\": 3,\n        \"max\": 14,\n        \"num_unique_values\": 9,\n        \"samples\": [\n          3\n        ],\n        \"semantic_type\": \"\",\n        \"description\": \"\"\n      }\n    },\n    {\n      \"column\": \"BIRTHDAY\",\n      \"properties\": {\n        \"dtype\": \"object\",\n        \"num_unique_values\": 11,\n        \"samples\": [\n          \"8/24/2007\"\n        ],\n        \"semantic_type\": \"\",\n        \"description\": \"\"\n      }\n    },\n    {\n      \"column\": \"TREATS GIVEN\",\n      \"properties\": {\n        \"dtype\": \"number\",\n        \"std\": 1,\n        \"min\": 0,\n        \"max\": 4,\n        \"num_unique_values\": 5,\n        \"samples\": [\n          1\n        ],\n        \"semantic_type\": \"\",\n        \"description\": \"\"\n      }\n    },\n    {\n      \"column\": \" HAS A S/O ?\",\n      \"properties\": {\n        \"dtype\": \"category\",\n        \"num_unique_values\": 3,\n        \"samples\": [\n          \"NO\"\n        ],\n        \"semantic_type\": \"\",\n        \"description\": \"\"\n      }\n    },\n    {\n      \"column\": \"ATTENDS LECTURES\",\n      \"properties\": {\n        \"dtype\": \"category\",\n        \"num_unique_values\": 2,\n        \"samples\": [\n          \"NO\"\n        ],\n        \"semantic_type\": \"\",\n        \"description\": \"\"\n      }\n    },\n    {\n      \"column\": \"CHARACTER\",\n      \"properties\": {\n        \"dtype\": \"category\",\n        \"num_unique_values\": 2,\n        \"samples\": [\n          \"LITE\"\n        ],\n        \"semantic_type\": \"\",\n        \"description\": \"\"\n      }\n    },\n    {\n      \"column\": \"PIZZERIA EXPENDITURE (annual)\",\n      \"properties\": {\n        \"dtype\": \"number\",\n        \"std\": 3501,\n        \"min\": 11381,\n        \"max\": 20898,\n        \"num_unique_values\": 10,\n        \"samples\": [\n          17796\n        ],\n        \"semantic_type\": \"\",\n        \"description\": \"\"\n      }\n    },\n    {\n      \"column\": \"GRAMS / MONTH\",\n      \"properties\": {\n        \"dtype\": \"number\",\n        \"std\": 6.179482178953184,\n        \"min\": 0.6,\n        \"max\": 22.0,\n        \"num_unique_values\": 9,\n        \"samples\": [\n          3.7\n        ],\n        \"semantic_type\": \"\",\n        \"description\": \"\"\n      }\n    }\n  ]\n}"
            }
          },
          "metadata": {},
          "execution_count": 1312
        }
      ]
    },
    {
      "cell_type": "code",
      "source": [
        "X_sen = seniors.drop(['BIRTHDAY', 'DAYS SINCE LAST SHOWER', 'TREATS GIVEN','PIZZERIA EXPENDITURE (annual)', 'NAME'], axis=1)"
      ],
      "metadata": {
        "id": "1F-R0ayDmHXF"
      },
      "execution_count": 1313,
      "outputs": []
    },
    {
      "cell_type": "code",
      "source": [
        "#encoding the categorical data using one hot encoding\n",
        "#independent variable\n",
        "from sklearn.compose import ColumnTransformer\n",
        "from sklearn.preprocessing import OneHotEncoder\n",
        "\n",
        "# dataset[' CLUB / DEPARTMENT'].replace('', 'NA', inplace=True)\n",
        "\n",
        "ct = ColumnTransformer(transformers=[('encoder', OneHotEncoder(), ['SEX', 'ADMISSION MODE', ' CLUB / DEPARTMENT', 'BOARD STUDIED', ' HAS A S/O ?', 'ATTENDS LECTURES','CHARACTER'])], remainder='passthrough')\n",
        "X_sen = np.array(ct.fit_transform(X_sen))"
      ],
      "metadata": {
        "id": "qmTUpoVLnWUu"
      },
      "execution_count": 1314,
      "outputs": []
    },
    {
      "cell_type": "code",
      "source": [
        "from sklearn.preprocessing import MinMaxScaler\n",
        "\n",
        "columns_to_norm = [1,3,4,10]\n",
        "scaler = MinMaxScaler()\n",
        "X_sen[:, columns_to_norm] = scaler.fit_transform(X_sen[:, columns_to_norm])\n",
        "X_sen = X_sen.astype(np.float32)"
      ],
      "metadata": {
        "id": "vrVYGruanibb"
      },
      "execution_count": 1315,
      "outputs": []
    },
    {
      "cell_type": "code",
      "source": [
        "X_sen = torch.FloatTensor(X_sen)"
      ],
      "metadata": {
        "id": "MLPI8utfn1Aj"
      },
      "execution_count": 1316,
      "outputs": []
    },
    {
      "cell_type": "code",
      "source": [
        "torch.manual_seed(70)\n",
        "in_features_sen=X_sen.shape[1]\n",
        "model_sen = Model(in_features_sen)"
      ],
      "metadata": {
        "id": "CliOkIeFpLAU"
      },
      "execution_count": 1317,
      "outputs": []
    },
    {
      "cell_type": "code",
      "source": [
        "with torch.no_grad():\n",
        "    for i, data in enumerate(torch.nan_to_num(X_sen)):\n",
        "        y_pred = model_sen.forward(data)\n",
        "        if y_pred < 0.5:\n",
        "            print(0)\n",
        "        else:\n",
        "          print(1)\n"
      ],
      "metadata": {
        "colab": {
          "base_uri": "https://localhost:8080/"
        },
        "id": "54Oijo7ppOpI",
        "outputId": "1ed0a5ef-f044-4f7b-91f6-3ecc95f1422a"
      },
      "execution_count": 1318,
      "outputs": [
        {
          "output_type": "stream",
          "name": "stdout",
          "text": [
            "0\n",
            "0\n",
            "0\n",
            "0\n",
            "0\n",
            "0\n",
            "0\n",
            "0\n",
            "0\n",
            "0\n",
            "0\n"
          ]
        }
      ]
    }
  ]
}